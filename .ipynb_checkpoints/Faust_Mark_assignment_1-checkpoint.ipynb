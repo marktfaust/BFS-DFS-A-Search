{
 "cells": [
  {
   "cell_type": "markdown",
   "metadata": {},
   "source": [
    "# Artificial Intelligence\n",
    "# 464/664\n",
    "# Assignment #1\n",
    "\n",
    "## General Directions for this Assignment\n",
    "\n",
    "00. We're using a Jupyter Notebook environment (tutorial available here: https://jupyter-notebook-beginner-guide.readthedocs.io/en/latest/what_is_jupyter.html),\n",
    "01. Read the entire notebook before beginning your work, \n",
    "02. Output format should be exactly as requested, \n",
    "03. Each helper function should be preceeded by documentation (Markdown cell), \n",
    "04. Each helper function should be followed by three assert-style unit tests,\n",
    "05. No comments in the code; anything worth mentioning should be included in the documentation,\n",
    "06. Keep functions to 20 lines or less (including space so do not add any),\n",
    "07. Do not use classes, \n",
    "08. Use descriptive variable names,\n",
    "09. Functions should do only one thing,\n",
    "10. Check submission deadline on Gradescope, \n",
    "11. Rename the file to Last_First_assignment_1, \n",
    "12. Submit your notebook (as .ipynb, not PDF) using Gradescope, and\n",
    "13. Do not submit any other files.\n",
    "\n",
    "## Before You Submit...\n",
    "\n",
    "1. Re-read the general instructions provided above, and\n",
    "2. Hit \"Kernel\"->\"Restart & Run All\"."
   ]
  },
  {
   "cell_type": "markdown",
   "metadata": {},
   "source": [
    "## The World\n",
    "\n",
    "A `List of Lists` is used to represent the world. Cells marked as '⬛' are obstacles in the world and are not traversable."
   ]
  },
  {
   "cell_type": "code",
   "execution_count": 1,
   "metadata": {},
   "outputs": [],
   "source": [
    "world = [\n",
    "['⬜','⬜','⬜','⬜','⬜','⬜','⬜','⬜','⬜','⬜','⬜','⬜','⬜','⬜','⬜','⬜','⬜','⬜','⬜','⬜','⬜'],\n",
    "['⬜','⬜','⬜','⬜','⬜','⬜','⬜','⬜','⬜','⬜','⬜','⬜','⬜','⬜','⬜','⬜','⬜','⬜','⬜','⬜','⬜'],\n",
    "['⬜','⬜','⬜','⬜','⬜','⬜','⬜','⬜','⬜','⬜','⬜','⬜','⬜','⬜','⬜','⬜','⬜','⬜','⬜','⬜','⬜'],\n",
    "['⬜','⬜','⬜','⬜','⬜','⬜','⬜','⬜','⬜','⬜','⬜','⬜','⬜','⬜','⬜','⬜','⬜','⬜','⬜','⬜','⬜'],\n",
    "['⬜','⬜','⬜','⬜','⬜','⬜','⬜','⬜','⬜','⬜','⬜','⬜','⬜','⬜','⬜','⬜','⬜','⬜','⬜','⬜','⬜'],\n",
    "['⬜','⬜','⬜','⬜','⬜','⬜','⬜','⬜','⬜','⬜','⬜','⬜','⬜','⬜','⬜','⬜','⬜','⬜','⬜','⬜','⬜'],\n",
    "['⬜','⬜','⬜','⬜','⬜','⬜','⬜','⬜','⬜','⬜','⬜','⬜','⬜','⬜','⬜','⬜','⬜','⬜','⬜','⬜','⬜'],\n",
    "['⬜','⬜','⬜','⬜','⬜','⬜','⬜','⬜','⬜','⬜','⬜','⬜','⬜','⬜','⬜','⬜','⬜','⬜','⬜','⬜','⬜'],\n",
    "['⬜','⬜','⬜','⬜','⬜','⬜','⬜','⬜','⬜','⬜','⬜','⬜','⬜','⬜','⬜','⬜','⬜','⬜','⬜','⬜','⬜'],\n",
    "['⬜','⬜','⬜','⬜','⬜','⬜','⬜','⬜','⬜','⬛','⬛','⬛','⬜','⬜','⬜','⬜','⬜','⬜','⬜','⬜','⬜'],\n",
    "['⬜','⬜','⬜','⬜','⬜','⬜','⬜','⬜','⬜','⬛','⬛','⬛','⬜','⬜','⬜','⬜','⬜','⬜','⬜','⬜','⬜'],\n",
    "['⬜','⬜','⬜','⬜','⬜','⬜','⬜','⬜','⬜','⬛','⬛','⬛','⬜','⬜','⬜','⬜','⬜','⬜','⬜','⬜','⬜'],\n",
    "['⬜','⬜','⬜','⬜','⬜','⬜','⬜','⬜','⬜','⬜','⬜','⬜','⬜','⬜','⬜','⬜','⬜','⬜','⬜','⬜','⬜'],\n",
    "['⬜','⬜','⬜','⬜','⬜','⬜','⬜','⬜','⬜','⬜','⬜','⬜','⬜','⬜','⬜','⬜','⬜','⬜','⬜','⬜','⬜'],\n",
    "['⬜','⬜','⬜','⬜','⬜','⬜','⬜','⬜','⬜','⬜','⬜','⬜','⬜','⬜','⬜','⬜','⬜','⬜','⬜','⬜','⬜'],\n",
    "['⬜','⬜','⬜','⬜','⬜','⬜','⬜','⬜','⬜','⬜','⬜','⬜','⬜','⬜','⬜','⬜','⬜','⬜','⬜','⬜','⬜'],\n",
    "['⬜','⬜','⬜','⬜','⬜','⬜','⬜','⬜','⬜','⬜','⬜','⬜','⬜','⬜','⬜','⬜','⬜','⬜','⬜','⬜','⬜'],\n",
    "['⬜','⬜','⬜','⬜','⬜','⬜','⬜','⬜','⬜','⬜','⬜','⬜','⬜','⬜','⬜','⬜','⬜','⬜','⬜','⬜','⬜'],\n",
    "['⬜','⬜','⬜','⬜','⬜','⬜','⬜','⬜','⬜','⬜','⬜','⬜','⬜','⬜','⬜','⬜','⬜','⬜','⬜','⬜','⬜'],\n",
    "['⬜','⬜','⬜','⬜','⬜','⬜','⬜','⬜','⬜','⬜','⬜','⬜','⬜','⬜','⬜','⬜','⬜','⬜','⬜','⬜','⬜'],\n",
    "['⬜','⬜','⬜','⬜','⬜','⬜','⬜','⬜','⬜','⬜','⬜','⬜','⬜','⬜','⬜','⬜','⬜','⬜','⬜','⬜','⬜']]"
   ]
  },
  {
   "cell_type": "code",
   "execution_count": 2,
   "metadata": {},
   "outputs": [
    {
     "name": "stdout",
     "output_type": "stream",
     "text": [
      "⬜⬜⬜⬜⬜⬜⬜⬜⬜⬜⬜⬜⬜⬜⬜⬜⬜⬜⬜⬜⬜\n",
      "⬜⬜⬜⬜⬜⬜⬜⬜⬜⬜⬜⬜⬜⬜⬜⬜⬜⬜⬜⬜⬜\n",
      "⬜⬜⬜⬜⬜⬜⬜⬜⬜⬜⬜⬜⬜⬜⬜⬜⬜⬜⬜⬜⬜\n",
      "⬜⬜⬜⬜⬜⬜⬜⬜⬜⬜⬜⬜⬜⬜⬜⬜⬜⬜⬜⬜⬜\n",
      "⬜⬜⬜⬜⬜⬜⬜⬜⬜⬜⬜⬜⬜⬜⬜⬜⬜⬜⬜⬜⬜\n",
      "⬜⬜⬜⬜⬜⬜⬜⬜⬜⬜⬜⬜⬜⬜⬜⬜⬜⬜⬜⬜⬜\n",
      "⬜⬜⬜⬜⬜⬜⬜⬜⬜⬜⬜⬜⬜⬜⬜⬜⬜⬜⬜⬜⬜\n",
      "⬜⬜⬜⬜⬜⬜⬜⬜⬜⬜⬜⬜⬜⬜⬜⬜⬜⬜⬜⬜⬜\n",
      "⬜⬜⬜⬜⬜⬜⬜⬜⬜⬜⬜⬜⬜⬜⬜⬜⬜⬜⬜⬜⬜\n",
      "⬜⬜⬜⬜⬜⬜⬜⬜⬜⬛⬛⬛⬜⬜⬜⬜⬜⬜⬜⬜⬜\n",
      "⬜⬜⬜⬜⬜⬜⬜⬜⬜⬛⬛⬛⬜⬜⬜⬜⬜⬜⬜⬜⬜\n",
      "⬜⬜⬜⬜⬜⬜⬜⬜⬜⬛⬛⬛⬜⬜⬜⬜⬜⬜⬜⬜⬜\n",
      "⬜⬜⬜⬜⬜⬜⬜⬜⬜⬜⬜⬜⬜⬜⬜⬜⬜⬜⬜⬜⬜\n",
      "⬜⬜⬜⬜⬜⬜⬜⬜⬜⬜⬜⬜⬜⬜⬜⬜⬜⬜⬜⬜⬜\n",
      "⬜⬜⬜⬜⬜⬜⬜⬜⬜⬜⬜⬜⬜⬜⬜⬜⬜⬜⬜⬜⬜\n",
      "⬜⬜⬜⬜⬜⬜⬜⬜⬜⬜⬜⬜⬜⬜⬜⬜⬜⬜⬜⬜⬜\n",
      "⬜⬜⬜⬜⬜⬜⬜⬜⬜⬜⬜⬜⬜⬜⬜⬜⬜⬜⬜⬜⬜\n",
      "⬜⬜⬜⬜⬜⬜⬜⬜⬜⬜⬜⬜⬜⬜⬜⬜⬜⬜⬜⬜⬜\n",
      "⬜⬜⬜⬜⬜⬜⬜⬜⬜⬜⬜⬜⬜⬜⬜⬜⬜⬜⬜⬜⬜\n",
      "⬜⬜⬜⬜⬜⬜⬜⬜⬜⬜⬜⬜⬜⬜⬜⬜⬜⬜⬜⬜⬜\n",
      "⬜⬜⬜⬜⬜⬜⬜⬜⬜⬜⬜⬜⬜⬜⬜⬜⬜⬜⬜⬜⬜\n"
     ]
    }
   ],
   "source": [
    "# A nicer view of the world, without commas and brackets\n",
    "for row in world:\n",
    "    print(\"\".join(row))"
   ]
  },
  {
   "cell_type": "markdown",
   "metadata": {},
   "source": [
    "## Robot\n",
    "\n",
    "Our robot '🤖' starts at the bottom left and can either move up, down, left, or right. It's looking for the '❤️' in the world. "
   ]
  },
  {
   "cell_type": "code",
   "execution_count": 3,
   "metadata": {},
   "outputs": [],
   "source": [
    "MOVES = [(-1,0), (0,1), (1,0), (0,-1)] # Up Right Down Left"
   ]
  },
  {
   "cell_type": "code",
   "execution_count": 4,
   "metadata": {},
   "outputs": [],
   "source": [
    "start = (len(world)-1, 0)"
   ]
  },
  {
   "cell_type": "code",
   "execution_count": 5,
   "metadata": {},
   "outputs": [],
   "source": [
    "goal = (0, len(world)-1)"
   ]
  },
  {
   "cell_type": "code",
   "execution_count": 6,
   "metadata": {},
   "outputs": [],
   "source": [
    "# Update the world with this information\n",
    "world[start[0]][start[1]] = '🤖'\n",
    "world[goal[0]][goal[1]] = '❤️'"
   ]
  },
  {
   "cell_type": "code",
   "execution_count": 7,
   "metadata": {},
   "outputs": [
    {
     "name": "stdout",
     "output_type": "stream",
     "text": [
      "⬜⬜⬜⬜⬜⬜⬜⬜⬜⬜⬜⬜⬜⬜⬜⬜⬜⬜⬜⬜❤️\n",
      "⬜⬜⬜⬜⬜⬜⬜⬜⬜⬜⬜⬜⬜⬜⬜⬜⬜⬜⬜⬜⬜\n",
      "⬜⬜⬜⬜⬜⬜⬜⬜⬜⬜⬜⬜⬜⬜⬜⬜⬜⬜⬜⬜⬜\n",
      "⬜⬜⬜⬜⬜⬜⬜⬜⬜⬜⬜⬜⬜⬜⬜⬜⬜⬜⬜⬜⬜\n",
      "⬜⬜⬜⬜⬜⬜⬜⬜⬜⬜⬜⬜⬜⬜⬜⬜⬜⬜⬜⬜⬜\n",
      "⬜⬜⬜⬜⬜⬜⬜⬜⬜⬜⬜⬜⬜⬜⬜⬜⬜⬜⬜⬜⬜\n",
      "⬜⬜⬜⬜⬜⬜⬜⬜⬜⬜⬜⬜⬜⬜⬜⬜⬜⬜⬜⬜⬜\n",
      "⬜⬜⬜⬜⬜⬜⬜⬜⬜⬜⬜⬜⬜⬜⬜⬜⬜⬜⬜⬜⬜\n",
      "⬜⬜⬜⬜⬜⬜⬜⬜⬜⬜⬜⬜⬜⬜⬜⬜⬜⬜⬜⬜⬜\n",
      "⬜⬜⬜⬜⬜⬜⬜⬜⬜⬛⬛⬛⬜⬜⬜⬜⬜⬜⬜⬜⬜\n",
      "⬜⬜⬜⬜⬜⬜⬜⬜⬜⬛⬛⬛⬜⬜⬜⬜⬜⬜⬜⬜⬜\n",
      "⬜⬜⬜⬜⬜⬜⬜⬜⬜⬛⬛⬛⬜⬜⬜⬜⬜⬜⬜⬜⬜\n",
      "⬜⬜⬜⬜⬜⬜⬜⬜⬜⬜⬜⬜⬜⬜⬜⬜⬜⬜⬜⬜⬜\n",
      "⬜⬜⬜⬜⬜⬜⬜⬜⬜⬜⬜⬜⬜⬜⬜⬜⬜⬜⬜⬜⬜\n",
      "⬜⬜⬜⬜⬜⬜⬜⬜⬜⬜⬜⬜⬜⬜⬜⬜⬜⬜⬜⬜⬜\n",
      "⬜⬜⬜⬜⬜⬜⬜⬜⬜⬜⬜⬜⬜⬜⬜⬜⬜⬜⬜⬜⬜\n",
      "⬜⬜⬜⬜⬜⬜⬜⬜⬜⬜⬜⬜⬜⬜⬜⬜⬜⬜⬜⬜⬜\n",
      "⬜⬜⬜⬜⬜⬜⬜⬜⬜⬜⬜⬜⬜⬜⬜⬜⬜⬜⬜⬜⬜\n",
      "⬜⬜⬜⬜⬜⬜⬜⬜⬜⬜⬜⬜⬜⬜⬜⬜⬜⬜⬜⬜⬜\n",
      "⬜⬜⬜⬜⬜⬜⬜⬜⬜⬜⬜⬜⬜⬜⬜⬜⬜⬜⬜⬜⬜\n",
      "🤖⬜⬜⬜⬜⬜⬜⬜⬜⬜⬜⬜⬜⬜⬜⬜⬜⬜⬜⬜⬜\n"
     ]
    }
   ],
   "source": [
    "# A nicer view of the world, without commas and brackets\n",
    "for row in world:\n",
    "    print(\"\".join(row))"
   ]
  },
  {
   "cell_type": "markdown",
   "metadata": {},
   "source": [
    "## Search\n",
    "\n",
    "\n",
    "A general search pseudocode is as follows:\n",
    "\n",
    "```\n",
    "search:\n",
    "    Initialize frontier (and add start node)\n",
    "    Initialize explored (and add start node)\n",
    "    \n",
    "    while frontier is not empy:\n",
    "        \n",
    "        node <- remove a node from frontier\n",
    "        \n",
    "        if node is goal, return\n",
    "        \n",
    "        for each child of node:\n",
    "            add child to frontier (based on some conditions)\n",
    "            add child to explored\n",
    "```\n",
    "\n",
    "Now, this is the general idea. How we deal with the frontier (implementation, queue, priority queue, stack, list, dictionary, and so on) and some of the conditions is going to differentiate whether this leads to breadth-first, depth-first, or A$^*$. \n",
    "\n",
    "\n",
    "Note. The frontier basically keeps track of what will be considered next. \n",
    "\n",
    "\n",
    "Note. We're looking for a path to goal (Problems 1-3 below) and not just an ability to find it; you'll need some bookkepping code to be able to keep track of how to construct the resulting path. "
   ]
  },
  {
   "cell_type": "markdown",
   "metadata": {},
   "source": [
    "## Important Note\n",
    "When implementing, consider the priority of MOVES when creating children for a node in the tree.  \n",
    "MOVES = [(-1,0), (0,1), (1,0), (0,-1)] (which is Up Right Down Left)  \n",
    "In order to get the correct outputs, stick to this priority when creating the tree."
   ]
  },
  {
   "cell_type": "markdown",
   "metadata": {},
   "source": [
    "## Problem #1\n",
    "\n",
    "\n",
    "Implement a breadth-first search function to help the robot find a path to goal. \n",
    "\n",
    "\n",
    "The output should look like the output above (nicer view of the world), with the following changes:\n",
    "\n",
    "\n",
    "* Replace a '⬜' with '🟨' if that cell was ever placed in the frontier, \n",
    "* Replace '⬜' with '🟩' to indicate the path found by the robot, and\n",
    "* '🤖', '❤️', and '⬛' are not replaced."
   ]
  },
  {
   "cell_type": "markdown",
   "metadata": {},
   "source": [
    "Consider the following starting tree for reference:\n",
    "<img src=\"BFS_Tree.png\" alt=\"BFS_Tree\" width=\"500\"/>  \n",
    "  \n",
    "    \n",
    "Since it is BFS, it will keep traverse every node in the level while opening their children and then move to the next level."
   ]
  },
  {
   "cell_type": "markdown",
   "metadata": {},
   "source": [
    "Consider this starting output for this problem:  \n",
    "<img src=\"BFS_Output.png\" alt=\"BFS_Output\" width=\"275\"/>"
   ]
  },
  {
   "cell_type": "code",
   "execution_count": 8,
   "metadata": {},
   "outputs": [],
   "source": [
    "# feel free to add imports below this cell. See example below:"
   ]
  },
  {
   "cell_type": "code",
   "execution_count": 9,
   "metadata": {},
   "outputs": [],
   "source": [
    "from copy import deepcopy\n",
    "import math\n",
    "from collections import deque\n",
    "import queue\n",
    "\n",
    "# Constants\n",
    "COORDS = 0\n",
    "PARENT = 1\n",
    "UP_CHILD = 2\n",
    "RIGHT_CHILD = 3\n",
    "DOWN_CHILD = 4\n",
    "LEFT_CHILD = 5\n",
    "ELEMENT = 6 # ⬛, ⬜, 🟨, 🟩, 🤖, or ❤️\n",
    "SLD = 7 # sld to goal"
   ]
  },
  {
   "cell_type": "code",
   "execution_count": 10,
   "metadata": {},
   "outputs": [],
   "source": [
    "# feel free to add helper functions below this cell. See example below:"
   ]
  },
  {
   "cell_type": "markdown",
   "metadata": {},
   "source": [
    "<a id=\"my_helper_function\"></a>\n",
    "## my_helper_function (Start a helper funtion with a Markdown cell like this)\n",
    "\n",
    "This function does nothing. It serves to demonstrate how your helper functions should be documented. They should start with a description like this Markdown cell. Next, write your function in a Code cell. Finally, end with three assert-style unit tests. \n",
    "\n",
    "* **arg_1** int: length of world\n",
    "* **arg_2** int: height of world\n",
    "\n",
    "\n",
    "**returns** \n",
    "\n",
    "* **area** int: the number of locations in the world"
   ]
  },
  {
   "cell_type": "code",
   "execution_count": 11,
   "metadata": {},
   "outputs": [],
   "source": [
    "def my_helper_function(arg_1, arg_2):\n",
    "    return arg_1 * arg_2"
   ]
  },
  {
   "cell_type": "code",
   "execution_count": 12,
   "metadata": {},
   "outputs": [],
   "source": [
    "assert my_helper_function(1,1) == 1 #if these pass, you should see no output\n",
    "assert my_helper_function(1,0) == 0 \n",
    "assert my_helper_function(len(world),len(world[0])) == 21*21 # end helper function three asserts"
   ]
  },
  {
   "cell_type": "markdown",
   "metadata": {},
   "source": [
    "<a id=\"print_world\"></a>\n",
    "## print_world\n",
    "\n",
    "This function prints out a \"world\" (a list). \n",
    "\n",
    "* **arg_1** list: world to print"
   ]
  },
  {
   "cell_type": "code",
   "execution_count": 13,
   "metadata": {},
   "outputs": [],
   "source": [
    "def print_world(world, printing=True):\n",
    "    string = \"\"\n",
    "    # A nice view of the world, without commas and brackets\n",
    "    for row in world:\n",
    "        if printing:\n",
    "            print(\"\".join(row))\n",
    "        string = string + \"\".join(row) + \"\\n\"\n",
    "    return string"
   ]
  },
  {
   "cell_type": "code",
   "execution_count": 14,
   "metadata": {},
   "outputs": [],
   "source": [
    "assert print_world([\n",
    "['⬜','⬜','⬜','⬜','⬜'],\n",
    "['⬜','⬜','⬜','⬜','⬜'],\n",
    "['⬜','⬜','⬛','⬜','⬜'],\n",
    "['⬜','⬜','⬜','⬜','⬜'],\n",
    "['⬜','⬜','⬜','⬜','⬜']], False) == '⬜⬜⬜⬜⬜\\n⬜⬜⬜⬜⬜\\n⬜⬜⬛⬜⬜\\n⬜⬜⬜⬜⬜\\n⬜⬜⬜⬜⬜\\n'\n",
    "assert print_world([\n",
    "['⬜','⬜','⬜','⬜','❤️'],\n",
    "['⬜','⬜','⬜','⬜','⬜'],\n",
    "['⬜','⬜','⬛','⬜','⬜'],\n",
    "['⬜','⬜','⬜','⬜','⬜'],\n",
    "['🤖','⬜','⬜','⬜','⬜']], False) == '⬜⬜⬜⬜❤️\\n⬜⬜⬜⬜⬜\\n⬜⬜⬛⬜⬜\\n⬜⬜⬜⬜⬜\\n🤖⬜⬜⬜⬜\\n'\n",
    "assert print_world([\n",
    "['⬜','⬜','⬜','⬜','❤️'],\n",
    "['⬜','🟩','🟩','🟩','🟩'],\n",
    "['⬜','🟩','⬛','⬜','⬜'],\n",
    "['⬜','🟩','⬜','⬜','⬜'],\n",
    "['🤖','🟩','⬜','⬜','⬜']], False) == '⬜⬜⬜⬜❤️\\n⬜🟩🟩🟩🟩\\n⬜🟩⬛⬜⬜\\n⬜🟩⬜⬜⬜\\n🤖🟩⬜⬜⬜\\n'"
   ]
  },
  {
   "cell_type": "markdown",
   "metadata": {},
   "source": [
    "<a id=\"get_sld\"></a>\n",
    "## get_sld \n",
    "\n",
    "This function finds the straightline distance between two nodes.\n",
    "\n",
    "* **arg_1** node_1: first node \n",
    "* **arg_2** node_2: second node"
   ]
  },
  {
   "cell_type": "code",
   "execution_count": 15,
   "metadata": {},
   "outputs": [],
   "source": [
    "def get_sld(node_1, node_2):\n",
    "    ROW = 0\n",
    "    COL = 1\n",
    "    return math.sqrt((node_2[ROW] - node_1[ROW]) ** 2 + (node_2[COL] - node_1[COL]) ** 2)"
   ]
  },
  {
   "cell_type": "code",
   "execution_count": 16,
   "metadata": {},
   "outputs": [],
   "source": [
    "assert get_sld((0,0), (3, 4)) == 5\n",
    "assert get_sld((0,0), (6, 8)) == 10\n",
    "assert get_sld((5,1), (1, 4)) == 5"
   ]
  },
  {
   "cell_type": "markdown",
   "metadata": {},
   "source": [
    "<a id=\"initialize_nodes\"></a>\n",
    "## initialize_nodes\n",
    "\n",
    "This function creates nodes from a world \n",
    "\n",
    "* **arg_1** nodes: nodes dictionary to be updated\n",
    "* **arg_2** goal: goal used to calculate straight-line distance\n",
    "* **arg_3** world: world to create nodes from"
   ]
  },
  {
   "cell_type": "code",
   "execution_count": 17,
   "metadata": {},
   "outputs": [],
   "source": [
    "def initialize_nodes(nodes, goal, world):\n",
    "    for row in range(len(world)):\n",
    "        for col in range(len(world)): \n",
    "            node = (row, col)\n",
    "            nodes[node] = [node, None, None, None, None, None, world[row][col], get_sld(node, goal)]"
   ]
  },
  {
   "cell_type": "code",
   "execution_count": 18,
   "metadata": {},
   "outputs": [],
   "source": [
    "test_nodes, test_goal, test_world = {}, (0,4), [\n",
    "['⬜','⬜','⬜','⬜','❤️'],\n",
    "['⬜','⬜','⬜','⬜','⬜'],\n",
    "['⬜','⬜','⬛','⬜','⬜'],\n",
    "['⬜','⬜','⬜','⬜','⬜'],\n",
    "['🤖','⬜','⬜','⬜','⬜']]\n",
    "\n",
    "initialize_nodes(test_nodes, test_goal, test_world)\n",
    "\n",
    "assert test_nodes[(4,0)][ELEMENT] == '🤖'\n",
    "assert test_nodes[(4,0)][COORDS] == (4,0)\n",
    "assert test_nodes[test_goal][ELEMENT] == '❤️'"
   ]
  },
  {
   "cell_type": "markdown",
   "metadata": {},
   "source": [
    "<a id=\"initialize_explored\"></a>\n",
    "## initialize_explored\n",
    "\n",
    "This function creates a map of explored nodes \n",
    "\n",
    "* **arg_1** explored: explored dictionary to be updated\n",
    "* **arg_2** world: world to create nodes from"
   ]
  },
  {
   "cell_type": "code",
   "execution_count": 19,
   "metadata": {},
   "outputs": [],
   "source": [
    "def initialize_explored(explored, world):\n",
    "    for row in range(len(world)):\n",
    "        for col in range(len(world)): \n",
    "            explored[(row, col)] = False"
   ]
  },
  {
   "cell_type": "code",
   "execution_count": 20,
   "metadata": {},
   "outputs": [],
   "source": [
    "explored, test_world = {}, [\n",
    "['⬜','⬜','⬜','⬜','❤️'],\n",
    "['⬜','⬜','⬜','⬜','⬜'],\n",
    "['⬜','⬜','⬛','⬜','⬜'],\n",
    "['⬜','⬜','⬜','⬜','⬜'],\n",
    "['🤖','⬜','⬜','⬜','⬜']]\n",
    "\n",
    "initialize_explored(explored, test_world)\n",
    "\n",
    "assert not explored[(4,0)]\n",
    "assert not explored[(2,2)]\n",
    "assert not explored[(0,4)]"
   ]
  },
  {
   "cell_type": "markdown",
   "metadata": {},
   "source": [
    "<a id=\"translate_world\"></a>\n",
    "## translate_world\n",
    "\n",
    "This function creates a new world from nodes dictionary\n",
    "\n",
    "* **arg_1** nodes: nodes to be translated into world\n",
    "* **arg_2** world: new world  "
   ]
  },
  {
   "cell_type": "code",
   "execution_count": 21,
   "metadata": {},
   "outputs": [],
   "source": [
    "def translate_world(nodes, world):\n",
    "    for row in range(len(world)):\n",
    "        for col in range(len(world)): \n",
    "            world[row][col] = nodes[(row, col)][ELEMENT]"
   ]
  },
  {
   "cell_type": "code",
   "execution_count": 22,
   "metadata": {},
   "outputs": [],
   "source": [
    "test_nodes = {\n",
    "    (0,0): [(0,0), None, None, None, None, None, '⬜', 0],\n",
    "    (0,1): [(0,1), None, None, None, None, None, '⬜', 0],\n",
    "    (0,2): [(0,2), None, None, None, None, None, '❤️', 0],\n",
    "    (1,0): [(1,0), None, None, None, None, None, '⬜', 0],\n",
    "    (1,1): [(1,1), None, None, None, None, None, '⬛', 0],\n",
    "    (1,2): [(1,2), None, None, None, None, None, '⬜', 0],\n",
    "    (2,0): [(2,0), None, None, None, None, None, '🤖', 0],\n",
    "    (2,1): [(2,1), None, None, None, None, None, '⬜', 0],\n",
    "    (2,2): [(2,2), None, None, None, None, None, '⬜', 0]\n",
    "}\n",
    "\n",
    "test_world = [[0]*3 for i in range(3)]\n",
    "\n",
    "translate_world(test_nodes, test_world)\n",
    "\n",
    "assert test_world[0][2] == '❤️'\n",
    "assert test_world[1][1] == '⬛'\n",
    "assert test_world[2][0] == '🤖'"
   ]
  },
  {
   "cell_type": "markdown",
   "metadata": {},
   "source": [
    "<a id=\"traverse_path_from_start\"></a>\n",
    "## traverse_path_from_start\n",
    "\n",
    "This function traverses the path back from the goal to the start via parent nodes.\n",
    "\n",
    "* **arg_1** start: starting point of robot\n",
    "* **arg_2** goal: goal of search algorithm \n",
    "* **arg_3** nodes: nodes within world  "
   ]
  },
  {
   "cell_type": "code",
   "execution_count": 23,
   "metadata": {},
   "outputs": [],
   "source": [
    "def traverse_path_from_start(start, goal, nodes):\n",
    "    curr_node = nodes[goal][PARENT]\n",
    "    while not curr_node == start:\n",
    "        nodes[curr_node][ELEMENT] = '🟩'\n",
    "        curr_node = nodes[curr_node][PARENT]"
   ]
  },
  {
   "cell_type": "code",
   "execution_count": 24,
   "metadata": {},
   "outputs": [],
   "source": [
    "test_nodes = {\n",
    "    (0,0): [(0,0), (1,0), None, None, None, None, '⬜', 0],\n",
    "    (0,1): [(0,1), (0,0), None, None, None, None, '⬜', 0],\n",
    "    (0,2): [(0,2), (0,1), None, None, None, None, '❤️', 0],\n",
    "    (1,0): [(1,0), (2,0), None, None, None, None, '⬜', 0],\n",
    "    (1,1): [(1,1), None, None, None, None, None, '⬛', 0],\n",
    "    (1,2): [(1,2), None, None, None, None, None, '⬜', 0],\n",
    "    (2,0): [(2,0), None, None, None, None, None, '🤖', 0],\n",
    "    (2,1): [(2,1), None, None, None, None, None, '⬜', 0],\n",
    "    (2,2): [(2,2), None, None, None, None, None, '⬜', 0]\n",
    "}\n",
    "\n",
    "test_start = (2,0)\n",
    "test_goal = (0,2)\n",
    "\n",
    "traverse_path_from_start(test_start, test_goal, test_nodes)\n",
    "\n",
    "assert test_nodes[(1,0)][ELEMENT] == '🟩'\n",
    "assert test_nodes[(0,0)][ELEMENT] == '🟩'\n",
    "assert test_nodes[(0,1)][ELEMENT] == '🟩'"
   ]
  },
  {
   "cell_type": "markdown",
   "metadata": {},
   "source": [
    "<a id=\"get_up_child\"></a>\n",
    "## get_up_child \n",
    "\n",
    "This function gets the upper child of a node in the world.\n",
    "\n",
    "* **arg_1** node: node to get upper child of"
   ]
  },
  {
   "cell_type": "code",
   "execution_count": 25,
   "metadata": {},
   "outputs": [],
   "source": [
    "def get_up_child(node):\n",
    "    ROW = 0\n",
    "    COL = 1\n",
    "    if node[COORDS][ROW] == 0:\n",
    "        return None\n",
    "    return (node[COORDS][ROW] - 1, node[COORDS][COL])"
   ]
  },
  {
   "cell_type": "code",
   "execution_count": 26,
   "metadata": {},
   "outputs": [],
   "source": [
    "assert get_up_child([(1,0), None, None, None, None, None, '⬜', 0]) == (0,0)\n",
    "assert get_up_child([(0,0), None, None, None, None, None, '⬜', 0]) == None\n",
    "assert get_up_child([(2,2), None, None, None, None, None, '⬜', 0]) == (1,2)"
   ]
  },
  {
   "cell_type": "markdown",
   "metadata": {},
   "source": [
    "<a id=\"get_right_child\"></a>\n",
    "## get_right_child \n",
    "\n",
    "This function gets the right child of a node in the world.\n",
    "\n",
    "* **arg_1** node: node to get right child of\n",
    "* **arg_2** world: world to grab dimensions of"
   ]
  },
  {
   "cell_type": "code",
   "execution_count": 27,
   "metadata": {},
   "outputs": [],
   "source": [
    "def get_right_child(node, world):\n",
    "    ROW = 0\n",
    "    COL = 1\n",
    "    if node[COORDS][COL] == len(world[ROW]) - 1:\n",
    "        return None\n",
    "    return (node[COORDS][ROW], node[COORDS][COL] + 1)"
   ]
  },
  {
   "cell_type": "code",
   "execution_count": 28,
   "metadata": {},
   "outputs": [],
   "source": [
    "test_world = [\n",
    "['⬜','⬜','❤️'],\n",
    "['⬜','⬛','⬜'],\n",
    "['🤖','⬜','⬜']]\n",
    "\n",
    "assert get_right_child([(1,0), None, None, None, None, None, '⬜', 0], test_world) == (1,1)\n",
    "assert get_right_child([(0,0), None, None, None, None, None, '⬜', 0], test_world) == (0,1)\n",
    "assert get_right_child([(2,2), None, None, None, None, None, '⬜', 0], test_world) == None"
   ]
  },
  {
   "cell_type": "markdown",
   "metadata": {},
   "source": [
    "<a id=\"get_down_child\"></a>\n",
    "## get_down_child \n",
    "\n",
    "This function gets the down child of a node in the world.\n",
    "\n",
    "* **arg_1** node: node to get down child of\n",
    "* **arg_2** world: world to grab dimensions of"
   ]
  },
  {
   "cell_type": "code",
   "execution_count": 29,
   "metadata": {},
   "outputs": [],
   "source": [
    "def get_down_child(node, world):\n",
    "    ROW = 0\n",
    "    COL = 1\n",
    "    if node[COORDS][ROW] == len(world) - 1:\n",
    "        return None\n",
    "    return (node[COORDS][ROW] + 1, node[COORDS][COL])"
   ]
  },
  {
   "cell_type": "code",
   "execution_count": 30,
   "metadata": {},
   "outputs": [],
   "source": [
    "test_world = [\n",
    "['⬜','⬜','❤️'],\n",
    "['⬜','⬛','⬜'],\n",
    "['🤖','⬜','⬜']]\n",
    "\n",
    "assert get_down_child([(1,0), None, None, None, None, None, '⬜', 0], test_world) == (2,0)\n",
    "assert get_down_child([(0,0), None, None, None, None, None, '⬜', 0], test_world) == (1,0)\n",
    "assert get_down_child([(2,2), None, None, None, None, None, '⬜', 0], test_world) == None"
   ]
  },
  {
   "cell_type": "markdown",
   "metadata": {},
   "source": [
    "<a id=\"get_left_child\"></a>\n",
    "## get_left_child \n",
    "\n",
    "This function gets the left child of a node in the world.\n",
    "\n",
    "* **arg_1** node: node to get left child of"
   ]
  },
  {
   "cell_type": "code",
   "execution_count": 31,
   "metadata": {},
   "outputs": [],
   "source": [
    "def get_left_child(node):\n",
    "    ROW = 0\n",
    "    COL = 1\n",
    "    if node[COORDS][COL] == 0:\n",
    "        return None\n",
    "    return (node[COORDS][ROW], node[COORDS][COL] - 1)"
   ]
  },
  {
   "cell_type": "code",
   "execution_count": 32,
   "metadata": {},
   "outputs": [],
   "source": [
    "assert get_left_child([(1,0), None, None, None, None, None, '⬜', 0]) == None\n",
    "assert get_left_child([(0,0), None, None, None, None, None, '⬜', 0]) == None\n",
    "assert get_left_child([(2,2), None, None, None, None, None, '⬜', 0]) == (2,1)"
   ]
  },
  {
   "cell_type": "markdown",
   "metadata": {},
   "source": [
    "<a id=\"is_goal\"></a>\n",
    "## is_goal \n",
    "\n",
    "This function determines if a node is goal.\n",
    "\n",
    "* **arg_1** node: node to check for goal"
   ]
  },
  {
   "cell_type": "code",
   "execution_count": 33,
   "metadata": {},
   "outputs": [],
   "source": [
    "def is_goal(node): \n",
    "    if node[ELEMENT] == '❤️':\n",
    "        return True\n",
    "    return False"
   ]
  },
  {
   "cell_type": "code",
   "execution_count": 34,
   "metadata": {},
   "outputs": [],
   "source": [
    "assert not is_goal([(1,0), None, None, None, None, None, '⬜', 0])\n",
    "assert is_goal([(0,0), None, None, None, None, None, '❤️', 0])\n",
    "assert is_goal([(2,2), None, None, None, None, None, '❤️', 0])"
   ]
  },
  {
   "cell_type": "markdown",
   "metadata": {},
   "source": [
    "<a id=\"handle_up_child\"></a>\n",
    "## handle_up_child\n",
    "\n",
    "This function handles operations on the up child of a node.\n",
    "\n",
    "* **arg_1** nodes: dictionary holding all nodes in the world \n",
    "* **arg_2** node: parent node of up child in question\n",
    "* **arg_3** explored: dictionary holding explored status of nodes\n",
    "* **arg_4** frontier: data structure holding nodes to be checked\n",
    "* **arg_5** timestamp: counter to ensure FIFO for priority queue\n",
    "* **arg_6** priority_queue: boolean to tell if priority queue is being used (for A*)"
   ]
  },
  {
   "cell_type": "code",
   "execution_count": 35,
   "metadata": {},
   "outputs": [],
   "source": [
    "def handle_up_child(nodes, node, explored, frontier, timestamp=0, priority_queue=False):\n",
    "    up_child = get_up_child(nodes[node])\n",
    "    if not up_child == None:\n",
    "        if not nodes[up_child][ELEMENT] == '⬛' and not explored[up_child]:\n",
    "            nodes[node][UP_CHILD] = up_child\n",
    "            nodes[up_child][PARENT] = node\n",
    "            if priority_queue:\n",
    "                frontier.put((nodes[up_child][SLD], (timestamp, up_child)))\n",
    "            else:\n",
    "                frontier.append(up_child)\n",
    "            explored[up_child] = True\n",
    "            if not up_child == goal:\n",
    "                nodes[up_child][ELEMENT] = '🟨'"
   ]
  },
  {
   "cell_type": "code",
   "execution_count": null,
   "metadata": {},
   "outputs": [],
   "source": [
    "test_explored, test_frontier, test_nodes = {}, deque([]), {\n",
    "    (0,0): [(0,0), None, None, None, None, None, '⬜', 0],\n",
    "    (0,1): [(0,1), None, None, None, None, None, '⬜', 0],\n",
    "    (0,2): [(0,2), None, None, None, None, None, '❤️', 0],\n",
    "    (1,0): [(1,0), None, None, None, None, None, '⬜', 0],\n",
    "    (1,1): [(1,1), None, None, None, None, None, '⬛', 0],\n",
    "    (1,2): [(1,2), None, None, None, None, None, '⬜', 0],\n",
    "    (2,0): [(2,0), None, None, None, None, None, '🤖', 0],\n",
    "    (2,1): [(2,1), None, None, None, None, None, '⬜', 0],\n",
    "    (2,2): [(2,2), None, None, None, None, None, '⬜', 0]\n",
    "}\n",
    "\n",
    "handle_up_child(test_nodes, (2,0), test_explored, test_frontier)\n",
    "\n"
   ]
  },
  {
   "cell_type": "markdown",
   "metadata": {},
   "source": [
    "<a id=\"handle_right_child\"></a>\n",
    "## handle_right_child\n",
    "\n",
    "This function handles operations on the right child of a node.\n",
    "\n",
    "* **arg_1** nodes: dictionary holding all nodes in the world \n",
    "* **arg_2** node: parent node of right child in question\n",
    "* **arg_3** explored: dictionary holding explored status of nodes\n",
    "* **arg_4** frontier: data structure holding nodes to be checked\n",
    "* **arg_5** timestamp: counter to ensure FIFO for priority queue\n",
    "* **arg_6** priority_queue: boolean to tell if priority queue is being used (for A*)"
   ]
  },
  {
   "cell_type": "code",
   "execution_count": 36,
   "metadata": {},
   "outputs": [],
   "source": [
    "def handle_right_child(nodes, node, explored, frontier, timestamp=0, priority_queue=False):\n",
    "    right_child = get_right_child(nodes[node], world)\n",
    "    if not right_child == None:\n",
    "        if not nodes[right_child][ELEMENT] == '⬛' and not explored[right_child]:\n",
    "            nodes[node][RIGHT_CHILD] = right_child\n",
    "            nodes[right_child][PARENT] = node\n",
    "            if priority_queue:\n",
    "                frontier.put((nodes[right_child][SLD], (timestamp, right_child)))\n",
    "            else:\n",
    "                frontier.append(right_child)\n",
    "            explored[right_child] = True\n",
    "            if not right_child == goal:\n",
    "                nodes[right_child][ELEMENT] = '🟨'"
   ]
  },
  {
   "cell_type": "markdown",
   "metadata": {},
   "source": [
    "<a id=\"handle_down_child\"></a>\n",
    "## handle_down_child\n",
    "\n",
    "This function handles operations on the down child of a node.\n",
    "\n",
    "* **arg_1** nodes: dictionary holding all nodes in the world \n",
    "* **arg_2** node: parent node of down child in question\n",
    "* **arg_3** explored: dictionary holding explored status of nodes\n",
    "* **arg_4** frontier: data structure holding nodes to be checked\n",
    "* **arg_5** timestamp: counter to ensure FIFO for priority queue\n",
    "* **arg_6** priority_queue: boolean to tell if priority queue is being used (for A*)"
   ]
  },
  {
   "cell_type": "code",
   "execution_count": 37,
   "metadata": {},
   "outputs": [],
   "source": [
    "def handle_down_child(nodes, node, explored, frontier, timestamp=0, priority_queue=False):\n",
    "    down_child = get_down_child(nodes[node], world)\n",
    "    if not down_child == None:\n",
    "        if not nodes[down_child][ELEMENT] == '⬛' and not explored[down_child]:\n",
    "            nodes[node][DOWN_CHILD] = down_child\n",
    "            nodes[down_child][PARENT] = node\n",
    "            if priority_queue:\n",
    "                frontier.put((nodes[down_child][SLD], (timestamp, down_child)))\n",
    "            else:\n",
    "                frontier.append(down_child)\n",
    "            explored[down_child] = True\n",
    "            if not down_child == goal:\n",
    "                nodes[down_child][ELEMENT] = '🟨'"
   ]
  },
  {
   "cell_type": "markdown",
   "metadata": {},
   "source": [
    "<a id=\"handle_left_child\"></a>\n",
    "## handle_left_child\n",
    "\n",
    "This function handles operations on the left child of a node.\n",
    "\n",
    "* **arg_1** nodes: dictionary holding all nodes in the world \n",
    "* **arg_2** node: parent node of left child in question\n",
    "* **arg_3** explored: dictionary holding explored status of nodes\n",
    "* **arg_4** frontier: data structure holding nodes to be checked\n",
    "* **arg_5** timestamp: counter to ensure FIFO for priority queue\n",
    "* **arg_6** priority_queue: boolean to tell if priority queue is being used (for A*)"
   ]
  },
  {
   "cell_type": "code",
   "execution_count": 38,
   "metadata": {},
   "outputs": [],
   "source": [
    "def handle_left_child(nodes, node, explored, frontier, timestamp=0, priority_queue=False):\n",
    "    left_child = get_left_child(nodes[node])\n",
    "    if not left_child == None:\n",
    "        if not nodes[left_child][ELEMENT] == '⬛' and not explored[left_child]:\n",
    "            nodes[node][LEFT_CHILD] = left_child\n",
    "            nodes[left_child][PARENT] = node\n",
    "            if priority_queue:\n",
    "                frontier.put((nodes[left_child][SLD], (timestamp, left_child)))\n",
    "            else:\n",
    "                frontier.append(left_child)\n",
    "            explored[left_child] = True\n",
    "            if not left_child == goal:\n",
    "                nodes[left_child][ELEMENT] = '🟨'"
   ]
  },
  {
   "cell_type": "markdown",
   "metadata": {},
   "source": [
    "<a id=\"initialize_search\"></a>\n",
    "## initialize_search\n",
    "\n",
    "This function initializes variables needed for the search.\n",
    "\n",
    "* **arg_1** nodes: dictionary holding all nodes in the world \n",
    "* **arg_2** explored: dictionary holding explored status of nodes\n",
    "* **arg_3** frontier: data structure holding nodes to be checked\n",
    "* **arg_4** goal: goal to serach for by robot\n",
    "* **arg_5** world: world in which robot and goal dwell\n",
    "* **arg_5** timestamp: counter to ensure FIFO for priority queue\n",
    "* **arg_6** priority_queue: boolean to tell if priority queue is being used (for A*)"
   ]
  },
  {
   "cell_type": "code",
   "execution_count": 39,
   "metadata": {},
   "outputs": [],
   "source": [
    "def initialize_search(nodes, explored, frontier, goal, world, timestamp=0, priority_queue=False):\n",
    "    # Initialize nodes\n",
    "    initialize_nodes(nodes, goal, world)\n",
    "\n",
    "    # Intialize explored with starting node\n",
    "    initialize_explored(explored, world)\n",
    "    explored[start] = True\n",
    "\n",
    "    # Initialize frontier with starting node \n",
    "    if priority_queue:\n",
    "        frontier.put((nodes[start][SLD], (timestamp, start)))\n",
    "    else:\n",
    "        frontier.append(start)"
   ]
  },
  {
   "cell_type": "markdown",
   "metadata": {},
   "source": [
    "<a id=\"conclude_search\"></a>\n",
    "## conclude_search\n",
    "\n",
    "This function wraps up operations for search, displaying the results.\n",
    "\n",
    "\n",
    "* **arg_1** start: position to start search from\n",
    "* **arg_2** goal: goal to search for by robot\n",
    "* **arg_3** nodes: dictionary holding all nodes in the world \n",
    "* **arg_4** world: world in which robot and goal dwell"
   ]
  },
  {
   "cell_type": "code",
   "execution_count": 40,
   "metadata": {},
   "outputs": [],
   "source": [
    "def conclude_search(start, goal, nodes, world):\n",
    "        traverse_path_from_start(start, goal, nodes)\n",
    "        translate_world(nodes, world)\n",
    "        print_world(world)"
   ]
  },
  {
   "cell_type": "markdown",
   "metadata": {},
   "source": [
    "<a id=\"breadth_first_search\"></a>\n",
    "## breadth_first_search\n",
    "\n",
    "Description of your function. Keep function to 20 lines or less with no comments and expressive variable names.\n",
    "\n",
    "* **world**: the search area\n",
    "* **start**: the starting location of the robot\n",
    "* **goal**: the goal location in the search area\n",
    "* **moves**: the allowable moves in the search area\n",
    "\n",
    "\n",
    "**returns** None (but prints out a nice view of the world and replaces appropriate cells using '🟨' and '🟩')."
   ]
  },
  {
   "cell_type": "code",
   "execution_count": 41,
   "metadata": {},
   "outputs": [],
   "source": [
    "def breadth_first_search(world, start, goal, moves): # Amend argument list and description above as you see fit\n",
    "    nodes, explored, frontier = {}, {}, deque([])\n",
    "    initialize_search(nodes, explored, frontier, goal, world)\n",
    "    while not len(frontier) == 0:\n",
    "        node = frontier.popleft()\n",
    "        if node == goal:\n",
    "            break \n",
    "        else:\n",
    "            handle_up_child(nodes, node, explored, frontier)\n",
    "            handle_right_child(nodes, node, explored, frontier)\n",
    "            handle_down_child(nodes, node, explored, frontier)\n",
    "            handle_left_child(nodes, node, explored, frontier)\n",
    "    conclude_search(start, goal, nodes, world)\n",
    "    return"
   ]
  },
  {
   "cell_type": "code",
   "execution_count": 42,
   "metadata": {},
   "outputs": [
    {
     "name": "stdout",
     "output_type": "stream",
     "text": [
      "🟩🟩🟩🟩🟩🟩🟩🟩🟩🟩🟩🟩🟩🟩🟩🟩🟩🟩🟩🟩❤️\n",
      "🟩🟨🟨🟨🟨🟨🟨🟨🟨🟨🟨🟨🟨🟨🟨🟨🟨🟨🟨🟨🟨\n",
      "🟩🟨🟨🟨🟨🟨🟨🟨🟨🟨🟨🟨🟨🟨🟨🟨🟨🟨🟨🟨🟨\n",
      "🟩🟨🟨🟨🟨🟨🟨🟨🟨🟨🟨🟨🟨🟨🟨🟨🟨🟨🟨🟨🟨\n",
      "🟩🟨🟨🟨🟨🟨🟨🟨🟨🟨🟨🟨🟨🟨🟨🟨🟨🟨🟨🟨🟨\n",
      "🟩🟨🟨🟨🟨🟨🟨🟨🟨🟨🟨🟨🟨🟨🟨🟨🟨🟨🟨🟨🟨\n",
      "🟩🟨🟨🟨🟨🟨🟨🟨🟨🟨🟨🟨🟨🟨🟨🟨🟨🟨🟨🟨🟨\n",
      "🟩🟨🟨🟨🟨🟨🟨🟨🟨🟨🟨🟨🟨🟨🟨🟨🟨🟨🟨🟨🟨\n",
      "🟩🟨🟨🟨🟨🟨🟨🟨🟨🟨🟨🟨🟨🟨🟨🟨🟨🟨🟨🟨🟨\n",
      "🟩🟨🟨🟨🟨🟨🟨🟨🟨⬛⬛⬛🟨🟨🟨🟨🟨🟨🟨🟨🟨\n",
      "🟩🟨🟨🟨🟨🟨🟨🟨🟨⬛⬛⬛🟨🟨🟨🟨🟨🟨🟨🟨🟨\n",
      "🟩🟨🟨🟨🟨🟨🟨🟨🟨⬛⬛⬛🟨🟨🟨🟨🟨🟨🟨🟨🟨\n",
      "🟩🟨🟨🟨🟨🟨🟨🟨🟨🟨🟨🟨🟨🟨🟨🟨🟨🟨🟨🟨🟨\n",
      "🟩🟨🟨🟨🟨🟨🟨🟨🟨🟨🟨🟨🟨🟨🟨🟨🟨🟨🟨🟨🟨\n",
      "🟩🟨🟨🟨🟨🟨🟨🟨🟨🟨🟨🟨🟨🟨🟨🟨🟨🟨🟨🟨🟨\n",
      "🟩🟨🟨🟨🟨🟨🟨🟨🟨🟨🟨🟨🟨🟨🟨🟨🟨🟨🟨🟨🟨\n",
      "🟩🟨🟨🟨🟨🟨🟨🟨🟨🟨🟨🟨🟨🟨🟨🟨🟨🟨🟨🟨🟨\n",
      "🟩🟨🟨🟨🟨🟨🟨🟨🟨🟨🟨🟨🟨🟨🟨🟨🟨🟨🟨🟨🟨\n",
      "🟩🟨🟨🟨🟨🟨🟨🟨🟨🟨🟨🟨🟨🟨🟨🟨🟨🟨🟨🟨🟨\n",
      "🟩🟨🟨🟨🟨🟨🟨🟨🟨🟨🟨🟨🟨🟨🟨🟨🟨🟨🟨🟨🟨\n",
      "🤖🟨🟨🟨🟨🟨🟨🟨🟨🟨🟨🟨🟨🟨🟨🟨🟨🟨🟨🟨🟨\n"
     ]
    }
   ],
   "source": [
    "bfs_world = deepcopy(world)\n",
    "result_1 = breadth_first_search(bfs_world, start, goal, MOVES) # Add your arguments, but this should ONLY print out a nice view of the world"
   ]
  },
  {
   "cell_type": "markdown",
   "metadata": {},
   "source": [
    "## Problem #2\n",
    "\n",
    "\n",
    "Implement a depth-first search function to help the robot find a path to goal. \n",
    "\n",
    "\n",
    "The output guidelines are similar to Problem #1. "
   ]
  },
  {
   "cell_type": "markdown",
   "metadata": {},
   "source": [
    "Consider the following starting tree for reference:\n",
    "<img src=\"DFS_Tree.png\" alt=\"DFS_Tree\" width=\"500\"/>  \n",
    "  \n",
    "\n",
    "Since it is DFS, it will open the first child of the node until it can."
   ]
  },
  {
   "cell_type": "markdown",
   "metadata": {},
   "source": [
    "Consider this starting output for this problem:  \n",
    "<img src=\"DFS_Output.png\" alt=\"DFS_Output\" width=\"275\"/>"
   ]
  },
  {
   "cell_type": "code",
   "execution_count": 43,
   "metadata": {},
   "outputs": [],
   "source": [
    "# feel free to add helper functions below this cell."
   ]
  },
  {
   "cell_type": "markdown",
   "metadata": {},
   "source": [
    "<a id=\"depth_first_search\"></a>\n",
    "## depth_first_search\n",
    "\n",
    "Description of your function...\n",
    "\n",
    "# FILL IN HERE"
   ]
  },
  {
   "cell_type": "code",
   "execution_count": 44,
   "metadata": {},
   "outputs": [],
   "source": [
    "def depth_first_search(world, start, goal, moves): # Amend argument list and description above as you see fit\n",
    "    nodes, explored, frontier = {}, {}, deque([])\n",
    "    initialize_search(nodes, explored, frontier, goal, world)\n",
    "    while not len(frontier) == 0:\n",
    "        node = frontier.pop()\n",
    "        if node == goal:\n",
    "            break \n",
    "        else:\n",
    "            handle_left_child(nodes, node, explored, frontier)\n",
    "            handle_down_child(nodes, node, explored, frontier)\n",
    "            handle_right_child(nodes, node, explored, frontier)\n",
    "            handle_up_child(nodes, node, explored, frontier)\n",
    "    conclude_search(start, goal, nodes, world)\n",
    "    return"
   ]
  },
  {
   "cell_type": "code",
   "execution_count": 45,
   "metadata": {},
   "outputs": [
    {
     "name": "stdout",
     "output_type": "stream",
     "text": [
      "🟩🟩🟩🟩🟩🟩🟩🟩🟩🟩🟩🟩🟩🟩🟩🟩🟩🟩🟩🟩❤️\n",
      "🟩🟨🟨🟨🟨🟨🟨🟨🟨🟨🟨🟨🟨🟨🟨🟨🟨🟨🟨🟨⬜\n",
      "🟩🟨⬜⬜⬜⬜⬜⬜⬜⬜⬜⬜⬜⬜⬜⬜⬜⬜⬜⬜⬜\n",
      "🟩🟨⬜⬜⬜⬜⬜⬜⬜⬜⬜⬜⬜⬜⬜⬜⬜⬜⬜⬜⬜\n",
      "🟩🟨⬜⬜⬜⬜⬜⬜⬜⬜⬜⬜⬜⬜⬜⬜⬜⬜⬜⬜⬜\n",
      "🟩🟨⬜⬜⬜⬜⬜⬜⬜⬜⬜⬜⬜⬜⬜⬜⬜⬜⬜⬜⬜\n",
      "🟩🟨⬜⬜⬜⬜⬜⬜⬜⬜⬜⬜⬜⬜⬜⬜⬜⬜⬜⬜⬜\n",
      "🟩🟨⬜⬜⬜⬜⬜⬜⬜⬜⬜⬜⬜⬜⬜⬜⬜⬜⬜⬜⬜\n",
      "🟩🟨⬜⬜⬜⬜⬜⬜⬜⬜⬜⬜⬜⬜⬜⬜⬜⬜⬜⬜⬜\n",
      "🟩🟨⬜⬜⬜⬜⬜⬜⬜⬛⬛⬛⬜⬜⬜⬜⬜⬜⬜⬜⬜\n",
      "🟩🟨⬜⬜⬜⬜⬜⬜⬜⬛⬛⬛⬜⬜⬜⬜⬜⬜⬜⬜⬜\n",
      "🟩🟨⬜⬜⬜⬜⬜⬜⬜⬛⬛⬛⬜⬜⬜⬜⬜⬜⬜⬜⬜\n",
      "🟩🟨⬜⬜⬜⬜⬜⬜⬜⬜⬜⬜⬜⬜⬜⬜⬜⬜⬜⬜⬜\n",
      "🟩🟨⬜⬜⬜⬜⬜⬜⬜⬜⬜⬜⬜⬜⬜⬜⬜⬜⬜⬜⬜\n",
      "🟩🟨⬜⬜⬜⬜⬜⬜⬜⬜⬜⬜⬜⬜⬜⬜⬜⬜⬜⬜⬜\n",
      "🟩🟨⬜⬜⬜⬜⬜⬜⬜⬜⬜⬜⬜⬜⬜⬜⬜⬜⬜⬜⬜\n",
      "🟩🟨⬜⬜⬜⬜⬜⬜⬜⬜⬜⬜⬜⬜⬜⬜⬜⬜⬜⬜⬜\n",
      "🟩🟨⬜⬜⬜⬜⬜⬜⬜⬜⬜⬜⬜⬜⬜⬜⬜⬜⬜⬜⬜\n",
      "🟩🟨⬜⬜⬜⬜⬜⬜⬜⬜⬜⬜⬜⬜⬜⬜⬜⬜⬜⬜⬜\n",
      "🟩🟨⬜⬜⬜⬜⬜⬜⬜⬜⬜⬜⬜⬜⬜⬜⬜⬜⬜⬜⬜\n",
      "🤖🟨⬜⬜⬜⬜⬜⬜⬜⬜⬜⬜⬜⬜⬜⬜⬜⬜⬜⬜⬜\n"
     ]
    }
   ],
   "source": [
    "dfs_world = deepcopy(world)\n",
    "result_2 = depth_first_search(dfs_world, start, goal, MOVES) # Add your arguments, but this should ONLY print out a nice view of the world"
   ]
  },
  {
   "cell_type": "markdown",
   "metadata": {},
   "source": [
    "## Problem #3\n",
    "\n",
    "\n",
    "Implement an A$^*$ search function to help the robot find the optimal path to goal. For this problem, when calculating the accumulated path cost assume that every step the robot takes costs 1 unit. Use straight-line distance as your heuristic.\n",
    "\n",
    "\n",
    "The output guidelines are similar to Problems 1 and 2. "
   ]
  },
  {
   "cell_type": "code",
   "execution_count": 46,
   "metadata": {},
   "outputs": [],
   "source": [
    "# Feel free to add helper functions below this cell."
   ]
  },
  {
   "cell_type": "markdown",
   "metadata": {},
   "source": [
    "<a id=\"a_star_search\"></a>\n",
    "## a_star_search\n",
    "\n",
    "Description of your function..."
   ]
  },
  {
   "cell_type": "code",
   "execution_count": 47,
   "metadata": {},
   "outputs": [],
   "source": [
    "def a_star_search(world, start, goal, moves): # Amend argument list and description above as you see fit)\n",
    "    nodes, explored, frontier, timestamp, NODE = {}, {}, queue.PriorityQueue(), 0, 1\n",
    "    initialize_search(nodes, explored, frontier, goal, world, timestamp, True)\n",
    "    timestamp = timestamp + 1\n",
    "    while not frontier.empty():\n",
    "        node = frontier.get()[1][NODE]\n",
    "        if node == goal:\n",
    "            break  \n",
    "        else:\n",
    "            handle_up_child(nodes, node, explored, frontier, timestamp, True)\n",
    "            timestamp = timestamp + 1\n",
    "            handle_right_child(nodes, node, explored, frontier, timestamp, True)\n",
    "            timestamp = timestamp + 1\n",
    "            handle_down_child(nodes, node, explored, frontier, timestamp, True)\n",
    "            timestamp = timestamp + 1\n",
    "            handle_left_child(nodes, node, explored, frontier, timestamp, True)\n",
    "            timestamp = timestamp + 1\n",
    "    conclude_search(start, goal, nodes, world)\n",
    "    return"
   ]
  },
  {
   "cell_type": "code",
   "execution_count": 48,
   "metadata": {},
   "outputs": [
    {
     "name": "stdout",
     "output_type": "stream",
     "text": [
      "⬜⬜⬜⬜⬜⬜⬜⬜⬜⬜⬜⬜⬜⬜⬜⬜⬜⬜🟨🟩❤️\n",
      "⬜⬜⬜⬜⬜⬜⬜⬜⬜⬜⬜⬜⬜⬜⬜⬜⬜🟨🟩🟩🟨\n",
      "⬜⬜⬜⬜⬜⬜⬜⬜⬜⬜⬜⬜⬜⬜⬜⬜🟨🟩🟩🟨⬜\n",
      "⬜⬜⬜⬜⬜⬜⬜⬜⬜⬜⬜⬜⬜⬜⬜🟨🟩🟩🟨⬜⬜\n",
      "⬜⬜⬜⬜⬜⬜⬜⬜⬜⬜⬜⬜⬜⬜🟨🟩🟩🟨⬜⬜⬜\n",
      "⬜⬜⬜⬜⬜⬜⬜⬜⬜⬜⬜⬜⬜🟨🟩🟩🟨⬜⬜⬜⬜\n",
      "⬜⬜⬜⬜⬜⬜⬜⬜⬜⬜⬜⬜🟨🟩🟩🟨⬜⬜⬜⬜⬜\n",
      "⬜⬜⬜⬜⬜⬜⬜⬜🟨🟨🟨🟨🟩🟩🟨⬜⬜⬜⬜⬜⬜\n",
      "⬜⬜⬜⬜⬜⬜⬜🟨🟩🟩🟩🟩🟩🟨⬜⬜⬜⬜⬜⬜⬜\n",
      "⬜⬜⬜⬜⬜⬜⬜🟨🟩⬛⬛⬛🟨⬜⬜⬜⬜⬜⬜⬜⬜\n",
      "⬜⬜⬜⬜⬜⬜⬜🟨🟩⬛⬛⬛⬜⬜⬜⬜⬜⬜⬜⬜⬜\n",
      "⬜⬜⬜⬜⬜⬜⬜🟨🟩⬛⬛⬛⬜⬜⬜⬜⬜⬜⬜⬜⬜\n",
      "⬜⬜⬜⬜⬜⬜🟨🟩🟩🟨⬜⬜⬜⬜⬜⬜⬜⬜⬜⬜⬜\n",
      "⬜⬜⬜⬜⬜🟨🟩🟩🟨⬜⬜⬜⬜⬜⬜⬜⬜⬜⬜⬜⬜\n",
      "⬜⬜⬜⬜🟨🟩🟩🟨⬜⬜⬜⬜⬜⬜⬜⬜⬜⬜⬜⬜⬜\n",
      "⬜⬜⬜🟨🟩🟩🟨⬜⬜⬜⬜⬜⬜⬜⬜⬜⬜⬜⬜⬜⬜\n",
      "⬜⬜🟨🟩🟩🟨⬜⬜⬜⬜⬜⬜⬜⬜⬜⬜⬜⬜⬜⬜⬜\n",
      "⬜🟨🟩🟩🟨⬜⬜⬜⬜⬜⬜⬜⬜⬜⬜⬜⬜⬜⬜⬜⬜\n",
      "🟨🟩🟩🟨⬜⬜⬜⬜⬜⬜⬜⬜⬜⬜⬜⬜⬜⬜⬜⬜⬜\n",
      "🟩🟩🟨⬜⬜⬜⬜⬜⬜⬜⬜⬜⬜⬜⬜⬜⬜⬜⬜⬜⬜\n",
      "🤖🟨⬜⬜⬜⬜⬜⬜⬜⬜⬜⬜⬜⬜⬜⬜⬜⬜⬜⬜⬜\n"
     ]
    }
   ],
   "source": [
    "a_star_world = deepcopy(world)\n",
    "result_3 = a_star_search(a_star_world, start, goal, MOVES) # Add your arguments, but this should ONLY print out a nice view of the world"
   ]
  },
  {
   "cell_type": "markdown",
   "metadata": {},
   "source": [
    "## Problem #4\n",
    "\n",
    "\n",
    "We're going to swap the start and goal positions and re-run the breadth-first and depth-first search algorithms.\n",
    "\n",
    "\n",
    "Fill out the table below with brief comments. "
   ]
  },
  {
   "cell_type": "code",
   "execution_count": 49,
   "metadata": {},
   "outputs": [],
   "source": [
    "start,goal=goal,start"
   ]
  },
  {
   "cell_type": "code",
   "execution_count": 50,
   "metadata": {},
   "outputs": [
    {
     "name": "stdout",
     "output_type": "stream",
     "text": [
      "🟨🟨🟨🟨🟨🟨🟨🟨🟨🟨🟨🟨🟨🟨🟨🟨🟨🟨🟨🟨❤️\n",
      "🟨🟨🟨🟨🟨🟨🟨🟨🟨🟨🟨🟨🟨🟨🟨🟨🟨🟨🟨🟨🟩\n",
      "🟨🟨🟨🟨🟨🟨🟨🟨🟨🟨🟨🟨🟨🟨🟨🟨🟨🟨🟨🟨🟩\n",
      "🟨🟨🟨🟨🟨🟨🟨🟨🟨🟨🟨🟨🟨🟨🟨🟨🟨🟨🟨🟨🟩\n",
      "🟨🟨🟨🟨🟨🟨🟨🟨🟨🟨🟨🟨🟨🟨🟨🟨🟨🟨🟨🟨🟩\n",
      "🟨🟨🟨🟨🟨🟨🟨🟨🟨🟨🟨🟨🟨🟨🟨🟨🟨🟨🟨🟨🟩\n",
      "🟨🟨🟨🟨🟨🟨🟨🟨🟨🟨🟨🟨🟨🟨🟨🟨🟨🟨🟨🟨🟩\n",
      "🟨🟨🟨🟨🟨🟨🟨🟨🟨🟨🟨🟨🟨🟨🟨🟨🟨🟨🟨🟨🟩\n",
      "🟨🟨🟨🟨🟨🟨🟨🟨🟨🟨🟨🟨🟨🟨🟨🟨🟨🟨🟨🟨🟩\n",
      "🟨🟨🟨🟨🟨🟨🟨🟨🟨⬛⬛⬛🟨🟨🟨🟨🟨🟨🟨🟨🟩\n",
      "🟨🟨🟨🟨🟨🟨🟨🟨🟨⬛⬛⬛🟨🟨🟨🟨🟨🟨🟨🟨🟩\n",
      "🟨🟨🟨🟨🟨🟨🟨🟨🟨⬛⬛⬛🟨🟨🟨🟨🟨🟨🟨🟨🟩\n",
      "🟨🟨🟨🟨🟨🟨🟨🟨🟨🟨🟨🟨🟨🟨🟨🟨🟨🟨🟨🟨🟩\n",
      "🟨🟨🟨🟨🟨🟨🟨🟨🟨🟨🟨🟨🟨🟨🟨🟨🟨🟨🟨🟨🟩\n",
      "🟨🟨🟨🟨🟨🟨🟨🟨🟨🟨🟨🟨🟨🟨🟨🟨🟨🟨🟨🟨🟩\n",
      "🟨🟨🟨🟨🟨🟨🟨🟨🟨🟨🟨🟨🟨🟨🟨🟨🟨🟨🟨🟨🟩\n",
      "🟨🟨🟨🟨🟨🟨🟨🟨🟨🟨🟨🟨🟨🟨🟨🟨🟨🟨🟨🟨🟩\n",
      "🟨🟨🟨🟨🟨🟨🟨🟨🟨🟨🟨🟨🟨🟨🟨🟨🟨🟨🟨🟨🟩\n",
      "🟨🟨🟨🟨🟨🟨🟨🟨🟨🟨🟨🟨🟨🟨🟨🟨🟨🟨🟨🟨🟩\n",
      "🟨🟨🟨🟨🟨🟨🟨🟨🟨🟨🟨🟨🟨🟨🟨🟨🟨🟨🟨🟨🟩\n",
      "🤖🟩🟩🟩🟩🟩🟩🟩🟩🟩🟩🟩🟩🟩🟩🟩🟩🟩🟩🟩🟩\n"
     ]
    }
   ],
   "source": [
    "prob_4a_world = deepcopy(world)\n",
    "result_4a = breadth_first_search(prob_4a_world, start, goal, MOVES) # Add your arguments, but this should ONLY print out a nice view of the world"
   ]
  },
  {
   "cell_type": "code",
   "execution_count": 51,
   "metadata": {},
   "outputs": [
    {
     "name": "stdout",
     "output_type": "stream",
     "text": [
      "🟨🟨🟩🟩🟩🟨🟩🟩🟩🟨🟨🟨🟩🟩🟩🟨🟩🟩🟩🟨❤️\n",
      "🟨🟨🟩🟨🟩🟨🟩🟨🟩🟨🟨🟨🟩🟨🟩🟨🟩🟨🟩🟨🟩\n",
      "🟨🟨🟩🟨🟩🟨🟩🟨🟩🟨🟨🟨🟩🟨🟩🟨🟩🟨🟩🟨🟩\n",
      "🟨🟨🟩🟨🟩🟨🟩🟨🟩🟨🟨🟨🟩🟨🟩🟨🟩🟨🟩🟨🟩\n",
      "🟨🟨🟩🟨🟩🟨🟩🟨🟩🟨🟨🟨🟩🟨🟩🟨🟩🟨🟩🟨🟩\n",
      "🟨🟨🟩🟨🟩🟨🟩🟨🟩🟨🟨🟨🟩🟨🟩🟨🟩🟨🟩🟨🟩\n",
      "🟨🟨🟩🟨🟩🟨🟩🟨🟩🟨🟨🟨🟩🟨🟩🟨🟩🟨🟩🟨🟩\n",
      "🟨🟨🟩🟨🟩🟨🟩🟨🟩🟨🟨🟨🟩🟨🟩🟨🟩🟨🟩🟨🟩\n",
      "🟨🟨🟩🟨🟩🟨🟩🟨🟩🟨🟨🟨🟩🟨🟩🟨🟩🟨🟩🟨🟩\n",
      "🟨🟨🟩🟨🟩🟨🟩🟨🟩⬛⬛⬛🟩🟨🟩🟨🟩🟨🟩🟨🟩\n",
      "🟨🟨🟩🟨🟩🟨🟩🟨🟩⬛⬛⬛🟩🟨🟩🟨🟩🟨🟩🟨🟩\n",
      "🟨🟨🟩🟨🟩🟨🟩🟨🟩⬛⬛⬛🟩🟨🟩🟨🟩🟨🟩🟨🟩\n",
      "🟨🟨🟩🟨🟩🟨🟩🟨🟩🟩🟩🟨🟩🟨🟩🟨🟩🟨🟩🟨🟩\n",
      "🟨🟨🟩🟨🟩🟨🟩🟩🟨🟨🟩🟨🟩🟨🟩🟨🟩🟨🟩🟨🟩\n",
      "🟨🟨🟩🟨🟩🟩🟨🟩🟩🟨🟩🟨🟩🟨🟩🟨🟩🟨🟩🟨🟩\n",
      "🟨🟨🟩🟩🟨🟩🟩🟨🟩🟨🟩🟨🟩🟨🟩🟨🟩🟨🟩🟨🟩\n",
      "🟨🟨🟨🟩🟩🟨🟩🟨🟩🟨🟩🟨🟩🟨🟩🟨🟩🟨🟩🟨🟩\n",
      "🟩🟩🟩🟨🟩🟨🟩🟨🟩🟨🟩🟨🟩🟨🟩🟨🟩🟨🟩🟨🟩\n",
      "🟩🟨🟩🟨🟩🟨🟩🟨🟩🟨🟩🟨🟩🟨🟩🟨🟩🟨🟩🟨🟩\n",
      "🟩🟨🟩🟨🟩🟨🟩🟨🟩🟨🟩🟨🟩🟨🟩🟨🟩🟨🟩🟨🟩\n",
      "🤖🟨🟩🟩🟩🟨🟩🟩🟩🟨🟩🟩🟩🟨🟩🟩🟩🟨🟩🟩🟩\n"
     ]
    }
   ],
   "source": [
    "prob_4b_world = deepcopy(world)\n",
    "result_4b = depth_first_search(prob_4b_world, start, goal, MOVES) # Add your arguments, but this should ONLY print out a nice view of the world"
   ]
  },
  {
   "cell_type": "markdown",
   "metadata": {},
   "source": [
    "| Comparison | Comment | \n",
    "|------|------|\n",
    "|BFS (original positions) vs DFS (original positions)| DFS did not search the entire space, as BFS did. Therefore, DFS turned out to be a lot more efficient in both space and time. That said, both algorithms required the robot to take the exact same path despite their drastically different search procedures which I thought was very interesting. The only thing different between implementations was the use of a queue (for BFS) vs a stack (for DFS). |\n",
    "|BFS (original positions) vs BFS (swapped positions) | BFS for both configurations required the same amount of resources (all spaces were explored). The only difference this time was that the path seemed to have inverted itself; instead of going up and then to the right, it went down and to the left. The path new path had no additional complexity that the previous BFS path did not have. |\n",
    "|DFS (original positions) vs DFS (swapped positions) | DFS with the swapped configuration required significantly more resources than the original DFS algorithm required. This time, not only was every space in the world explored, but the path was much, much longer. While DFS paid off in the first scenario requiring less time and space resources, DFS was less beneficial in the swapped case. The swapped path's complexity also significantly increased, obviously. |\n"
   ]
  },
  {
   "cell_type": "markdown",
   "metadata": {},
   "source": [
    "## Before You Submit...\n",
    "\n",
    "1. Re-read the general instructions provided above, and\n",
    "2. Hit \"Kernel\"->\"Restart & Run All\"."
   ]
  }
 ],
 "metadata": {
  "kernelspec": {
   "display_name": "Python 3 (ipykernel)",
   "language": "python",
   "name": "python3"
  },
  "language_info": {
   "codemirror_mode": {
    "name": "ipython",
    "version": 3
   },
   "file_extension": ".py",
   "mimetype": "text/x-python",
   "name": "python",
   "nbconvert_exporter": "python",
   "pygments_lexer": "ipython3",
   "version": "3.9.13"
  },
  "toc": {
   "colors": {
    "hover_highlight": "#DAA520",
    "navigate_num": "#000000",
    "navigate_text": "#333333",
    "running_highlight": "#FF0000",
    "selected_highlight": "#FFD700",
    "sidebar_border": "#EEEEEE",
    "wrapper_background": "#FFFFFF"
   },
   "moveMenuLeft": true,
   "nav_menu": {
    "height": "192px",
    "width": "252px"
   },
   "navigate_menu": true,
   "number_sections": true,
   "sideBar": true,
   "threshold": 4,
   "toc_cell": false,
   "toc_section_display": "block",
   "toc_window_display": false,
   "widenNotebook": false
  }
 },
 "nbformat": 4,
 "nbformat_minor": 4
}
