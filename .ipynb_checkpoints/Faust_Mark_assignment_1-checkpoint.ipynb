{
 "cells": [
  {
   "cell_type": "markdown",
   "metadata": {},
   "source": [
    "# Artificial Intelligence\n",
    "# 464/664\n",
    "# Assignment #1\n",
    "\n",
    "## General Directions for this Assignment\n",
    "\n",
    "00. We're using a Jupyter Notebook environment (tutorial available here: https://jupyter-notebook-beginner-guide.readthedocs.io/en/latest/what_is_jupyter.html),\n",
    "01. Read the entire notebook before beginning your work, \n",
    "02. Output format should be exactly as requested, \n",
    "03. Each helper function should be preceeded by documentation (Markdown cell), \n",
    "04. Each helper function should be followed by three assert-style unit tests,\n",
    "05. No comments in the code; anything worth mentioning should be included in the documentation,\n",
    "06. Keep functions to 20 lines or less (including space so do not add any),\n",
    "07. Do not use classes, \n",
    "08. Use descriptive variable names,\n",
    "09. Functions should do only one thing,\n",
    "10. Check submission deadline on Gradescope, \n",
    "11. Rename the file to Last_First_assignment_1, \n",
    "12. Submit your notebook (as .ipynb, not PDF) using Gradescope, and\n",
    "13. Do not submit any other files.\n",
    "\n",
    "## Before You Submit...\n",
    "\n",
    "1. Re-read the general instructions provided above, and\n",
    "2. Hit \"Kernel\"->\"Restart & Run All\"."
   ]
  },
  {
   "cell_type": "markdown",
   "metadata": {},
   "source": [
    "## The World\n",
    "\n",
    "A `List of Lists` is used to represent the world. Cells marked as '⬛' are obstacles in the world and are not traversable."
   ]
  },
  {
   "cell_type": "code",
   "execution_count": 1,
   "metadata": {},
   "outputs": [],
   "source": [
    "world = [\n",
    "['⬜','⬜','⬜','⬜','⬜','⬜','⬜','⬜','⬜','⬜','⬜','⬜','⬜','⬜','⬜','⬜','⬜','⬜','⬜','⬜','⬜'],\n",
    "['⬜','⬜','⬜','⬜','⬜','⬜','⬜','⬜','⬜','⬜','⬜','⬜','⬜','⬜','⬜','⬜','⬜','⬜','⬜','⬜','⬜'],\n",
    "['⬜','⬜','⬜','⬜','⬜','⬜','⬜','⬜','⬜','⬜','⬜','⬜','⬜','⬜','⬜','⬜','⬜','⬜','⬜','⬜','⬜'],\n",
    "['⬜','⬜','⬜','⬜','⬜','⬜','⬜','⬜','⬜','⬜','⬜','⬜','⬜','⬜','⬜','⬜','⬜','⬜','⬜','⬜','⬜'],\n",
    "['⬜','⬜','⬜','⬜','⬜','⬜','⬜','⬜','⬜','⬜','⬜','⬜','⬜','⬜','⬜','⬜','⬜','⬜','⬜','⬜','⬜'],\n",
    "['⬜','⬜','⬜','⬜','⬜','⬜','⬜','⬜','⬜','⬜','⬜','⬜','⬜','⬜','⬜','⬜','⬜','⬜','⬜','⬜','⬜'],\n",
    "['⬜','⬜','⬜','⬜','⬜','⬜','⬜','⬜','⬜','⬜','⬜','⬜','⬜','⬜','⬜','⬜','⬜','⬜','⬜','⬜','⬜'],\n",
    "['⬜','⬜','⬜','⬜','⬜','⬜','⬜','⬜','⬜','⬜','⬜','⬜','⬜','⬜','⬜','⬜','⬜','⬜','⬜','⬜','⬜'],\n",
    "['⬜','⬜','⬜','⬜','⬜','⬜','⬜','⬜','⬜','⬜','⬜','⬜','⬜','⬜','⬜','⬜','⬜','⬜','⬜','⬜','⬜'],\n",
    "['⬜','⬜','⬜','⬜','⬜','⬜','⬜','⬜','⬜','⬛','⬛','⬛','⬜','⬜','⬜','⬜','⬜','⬜','⬜','⬜','⬜'],\n",
    "['⬜','⬜','⬜','⬜','⬜','⬜','⬜','⬜','⬜','⬛','⬛','⬛','⬜','⬜','⬜','⬜','⬜','⬜','⬜','⬜','⬜'],\n",
    "['⬜','⬜','⬜','⬜','⬜','⬜','⬜','⬜','⬜','⬛','⬛','⬛','⬜','⬜','⬜','⬜','⬜','⬜','⬜','⬜','⬜'],\n",
    "['⬜','⬜','⬜','⬜','⬜','⬜','⬜','⬜','⬜','⬜','⬜','⬜','⬜','⬜','⬜','⬜','⬜','⬜','⬜','⬜','⬜'],\n",
    "['⬜','⬜','⬜','⬜','⬜','⬜','⬜','⬜','⬜','⬜','⬜','⬜','⬜','⬜','⬜','⬜','⬜','⬜','⬜','⬜','⬜'],\n",
    "['⬜','⬜','⬜','⬜','⬜','⬜','⬜','⬜','⬜','⬜','⬜','⬜','⬜','⬜','⬜','⬜','⬜','⬜','⬜','⬜','⬜'],\n",
    "['⬜','⬜','⬜','⬜','⬜','⬜','⬜','⬜','⬜','⬜','⬜','⬜','⬜','⬜','⬜','⬜','⬜','⬜','⬜','⬜','⬜'],\n",
    "['⬜','⬜','⬜','⬜','⬜','⬜','⬜','⬜','⬜','⬜','⬜','⬜','⬜','⬜','⬜','⬜','⬜','⬜','⬜','⬜','⬜'],\n",
    "['⬜','⬜','⬜','⬜','⬜','⬜','⬜','⬜','⬜','⬜','⬜','⬜','⬜','⬜','⬜','⬜','⬜','⬜','⬜','⬜','⬜'],\n",
    "['⬜','⬜','⬜','⬜','⬜','⬜','⬜','⬜','⬜','⬜','⬜','⬜','⬜','⬜','⬜','⬜','⬜','⬜','⬜','⬜','⬜'],\n",
    "['⬜','⬜','⬜','⬜','⬜','⬜','⬜','⬜','⬜','⬜','⬜','⬜','⬜','⬜','⬜','⬜','⬜','⬜','⬜','⬜','⬜'],\n",
    "['⬜','⬜','⬜','⬜','⬜','⬜','⬜','⬜','⬜','⬜','⬜','⬜','⬜','⬜','⬜','⬜','⬜','⬜','⬜','⬜','⬜']]"
   ]
  },
  {
   "cell_type": "code",
   "execution_count": 2,
   "metadata": {},
   "outputs": [
    {
     "name": "stdout",
     "output_type": "stream",
     "text": [
      "⬜⬜⬜⬜⬜⬜⬜⬜⬜⬜⬜⬜⬜⬜⬜⬜⬜⬜⬜⬜⬜\n",
      "⬜⬜⬜⬜⬜⬜⬜⬜⬜⬜⬜⬜⬜⬜⬜⬜⬜⬜⬜⬜⬜\n",
      "⬜⬜⬜⬜⬜⬜⬜⬜⬜⬜⬜⬜⬜⬜⬜⬜⬜⬜⬜⬜⬜\n",
      "⬜⬜⬜⬜⬜⬜⬜⬜⬜⬜⬜⬜⬜⬜⬜⬜⬜⬜⬜⬜⬜\n",
      "⬜⬜⬜⬜⬜⬜⬜⬜⬜⬜⬜⬜⬜⬜⬜⬜⬜⬜⬜⬜⬜\n",
      "⬜⬜⬜⬜⬜⬜⬜⬜⬜⬜⬜⬜⬜⬜⬜⬜⬜⬜⬜⬜⬜\n",
      "⬜⬜⬜⬜⬜⬜⬜⬜⬜⬜⬜⬜⬜⬜⬜⬜⬜⬜⬜⬜⬜\n",
      "⬜⬜⬜⬜⬜⬜⬜⬜⬜⬜⬜⬜⬜⬜⬜⬜⬜⬜⬜⬜⬜\n",
      "⬜⬜⬜⬜⬜⬜⬜⬜⬜⬜⬜⬜⬜⬜⬜⬜⬜⬜⬜⬜⬜\n",
      "⬜⬜⬜⬜⬜⬜⬜⬜⬜⬛⬛⬛⬜⬜⬜⬜⬜⬜⬜⬜⬜\n",
      "⬜⬜⬜⬜⬜⬜⬜⬜⬜⬛⬛⬛⬜⬜⬜⬜⬜⬜⬜⬜⬜\n",
      "⬜⬜⬜⬜⬜⬜⬜⬜⬜⬛⬛⬛⬜⬜⬜⬜⬜⬜⬜⬜⬜\n",
      "⬜⬜⬜⬜⬜⬜⬜⬜⬜⬜⬜⬜⬜⬜⬜⬜⬜⬜⬜⬜⬜\n",
      "⬜⬜⬜⬜⬜⬜⬜⬜⬜⬜⬜⬜⬜⬜⬜⬜⬜⬜⬜⬜⬜\n",
      "⬜⬜⬜⬜⬜⬜⬜⬜⬜⬜⬜⬜⬜⬜⬜⬜⬜⬜⬜⬜⬜\n",
      "⬜⬜⬜⬜⬜⬜⬜⬜⬜⬜⬜⬜⬜⬜⬜⬜⬜⬜⬜⬜⬜\n",
      "⬜⬜⬜⬜⬜⬜⬜⬜⬜⬜⬜⬜⬜⬜⬜⬜⬜⬜⬜⬜⬜\n",
      "⬜⬜⬜⬜⬜⬜⬜⬜⬜⬜⬜⬜⬜⬜⬜⬜⬜⬜⬜⬜⬜\n",
      "⬜⬜⬜⬜⬜⬜⬜⬜⬜⬜⬜⬜⬜⬜⬜⬜⬜⬜⬜⬜⬜\n",
      "⬜⬜⬜⬜⬜⬜⬜⬜⬜⬜⬜⬜⬜⬜⬜⬜⬜⬜⬜⬜⬜\n",
      "⬜⬜⬜⬜⬜⬜⬜⬜⬜⬜⬜⬜⬜⬜⬜⬜⬜⬜⬜⬜⬜\n"
     ]
    }
   ],
   "source": [
    "# A nicer view of the world, without commas and brackets\n",
    "for row in world:\n",
    "    print(\"\".join(row))"
   ]
  },
  {
   "cell_type": "markdown",
   "metadata": {},
   "source": [
    "## Robot\n",
    "\n",
    "Our robot '🤖' starts at the bottom left and can either move up, down, left, or right. It's looking for the '❤️' in the world. "
   ]
  },
  {
   "cell_type": "code",
   "execution_count": 3,
   "metadata": {},
   "outputs": [],
   "source": [
    "MOVES = [(-1,0), (0,1), (1,0), (0,-1)] # Up Right Down Left"
   ]
  },
  {
   "cell_type": "code",
   "execution_count": 4,
   "metadata": {},
   "outputs": [],
   "source": [
    "start = (len(world)-1, 0)"
   ]
  },
  {
   "cell_type": "code",
   "execution_count": 5,
   "metadata": {},
   "outputs": [],
   "source": [
    "goal = (0, len(world)-1)"
   ]
  },
  {
   "cell_type": "code",
   "execution_count": 6,
   "metadata": {},
   "outputs": [],
   "source": [
    "# Update the world with this information\n",
    "world[start[0]][start[1]] = '🤖'\n",
    "world[goal[0]][goal[1]] = '❤️'"
   ]
  },
  {
   "cell_type": "code",
   "execution_count": 7,
   "metadata": {},
   "outputs": [
    {
     "name": "stdout",
     "output_type": "stream",
     "text": [
      "⬜⬜⬜⬜⬜⬜⬜⬜⬜⬜⬜⬜⬜⬜⬜⬜⬜⬜⬜⬜❤️\n",
      "⬜⬜⬜⬜⬜⬜⬜⬜⬜⬜⬜⬜⬜⬜⬜⬜⬜⬜⬜⬜⬜\n",
      "⬜⬜⬜⬜⬜⬜⬜⬜⬜⬜⬜⬜⬜⬜⬜⬜⬜⬜⬜⬜⬜\n",
      "⬜⬜⬜⬜⬜⬜⬜⬜⬜⬜⬜⬜⬜⬜⬜⬜⬜⬜⬜⬜⬜\n",
      "⬜⬜⬜⬜⬜⬜⬜⬜⬜⬜⬜⬜⬜⬜⬜⬜⬜⬜⬜⬜⬜\n",
      "⬜⬜⬜⬜⬜⬜⬜⬜⬜⬜⬜⬜⬜⬜⬜⬜⬜⬜⬜⬜⬜\n",
      "⬜⬜⬜⬜⬜⬜⬜⬜⬜⬜⬜⬜⬜⬜⬜⬜⬜⬜⬜⬜⬜\n",
      "⬜⬜⬜⬜⬜⬜⬜⬜⬜⬜⬜⬜⬜⬜⬜⬜⬜⬜⬜⬜⬜\n",
      "⬜⬜⬜⬜⬜⬜⬜⬜⬜⬜⬜⬜⬜⬜⬜⬜⬜⬜⬜⬜⬜\n",
      "⬜⬜⬜⬜⬜⬜⬜⬜⬜⬛⬛⬛⬜⬜⬜⬜⬜⬜⬜⬜⬜\n",
      "⬜⬜⬜⬜⬜⬜⬜⬜⬜⬛⬛⬛⬜⬜⬜⬜⬜⬜⬜⬜⬜\n",
      "⬜⬜⬜⬜⬜⬜⬜⬜⬜⬛⬛⬛⬜⬜⬜⬜⬜⬜⬜⬜⬜\n",
      "⬜⬜⬜⬜⬜⬜⬜⬜⬜⬜⬜⬜⬜⬜⬜⬜⬜⬜⬜⬜⬜\n",
      "⬜⬜⬜⬜⬜⬜⬜⬜⬜⬜⬜⬜⬜⬜⬜⬜⬜⬜⬜⬜⬜\n",
      "⬜⬜⬜⬜⬜⬜⬜⬜⬜⬜⬜⬜⬜⬜⬜⬜⬜⬜⬜⬜⬜\n",
      "⬜⬜⬜⬜⬜⬜⬜⬜⬜⬜⬜⬜⬜⬜⬜⬜⬜⬜⬜⬜⬜\n",
      "⬜⬜⬜⬜⬜⬜⬜⬜⬜⬜⬜⬜⬜⬜⬜⬜⬜⬜⬜⬜⬜\n",
      "⬜⬜⬜⬜⬜⬜⬜⬜⬜⬜⬜⬜⬜⬜⬜⬜⬜⬜⬜⬜⬜\n",
      "⬜⬜⬜⬜⬜⬜⬜⬜⬜⬜⬜⬜⬜⬜⬜⬜⬜⬜⬜⬜⬜\n",
      "⬜⬜⬜⬜⬜⬜⬜⬜⬜⬜⬜⬜⬜⬜⬜⬜⬜⬜⬜⬜⬜\n",
      "🤖⬜⬜⬜⬜⬜⬜⬜⬜⬜⬜⬜⬜⬜⬜⬜⬜⬜⬜⬜⬜\n"
     ]
    }
   ],
   "source": [
    "# A nicer view of the world, without commas and brackets\n",
    "for row in world:\n",
    "    print(\"\".join(row))"
   ]
  },
  {
   "cell_type": "markdown",
   "metadata": {},
   "source": [
    "## Search\n",
    "\n",
    "\n",
    "A general search pseudocode is as follows:\n",
    "\n",
    "```\n",
    "search:\n",
    "    Initialize frontier (and add start node)\n",
    "    Initialize explored (and add start node)\n",
    "    \n",
    "    while frontier is not empy:\n",
    "        \n",
    "        node <- remove a node from frontier\n",
    "        \n",
    "        if node is goal, return\n",
    "        \n",
    "        for each child of node:\n",
    "            add child to frontier (based on some conditions)\n",
    "            add child to explored\n",
    "```\n",
    "\n",
    "Now, this is the general idea. How we deal with the frontier (implementation, queue, priority queue, stack, list, dictionary, and so on) and some of the conditions is going to differentiate whether this leads to breadth-first, depth-first, or A$^*$. \n",
    "\n",
    "\n",
    "Note. The frontier basically keeps track of what will be considered next. \n",
    "\n",
    "\n",
    "Note. We're looking for a path to goal (Problems 1-3 below) and not just an ability to find it; you'll need some bookkepping code to be able to keep track of how to construct the resulting path. "
   ]
  },
  {
   "cell_type": "markdown",
   "metadata": {},
   "source": [
    "## Important Note\n",
    "When implementing, consider the priority of MOVES when creating children for a node in the tree.  \n",
    "MOVES = [(-1,0), (0,1), (1,0), (0,-1)] (which is Up Right Down Left)  \n",
    "In order to get the correct outputs, stick to this priority when creating the tree."
   ]
  },
  {
   "cell_type": "markdown",
   "metadata": {},
   "source": [
    "## Problem #1\n",
    "\n",
    "\n",
    "Implement a breadth-first search function to help the robot find a path to goal. \n",
    "\n",
    "\n",
    "The output should look like the output above (nicer view of the world), with the following changes:\n",
    "\n",
    "\n",
    "* Replace a '⬜' with '🟨' if that cell was ever placed in the frontier, \n",
    "* Replace '⬜' with '🟩' to indicate the path found by the robot, and\n",
    "* '🤖', '❤️', and '⬛' are not replaced."
   ]
  },
  {
   "cell_type": "markdown",
   "metadata": {},
   "source": [
    "Consider the following starting tree for reference:\n",
    "<img src=\"BFS_Tree.png\" alt=\"BFS_Tree\" width=\"500\"/>  \n",
    "  \n",
    "    \n",
    "Since it is BFS, it will keep traverse every node in the level while opening their children and then move to the next level."
   ]
  },
  {
   "cell_type": "markdown",
   "metadata": {},
   "source": [
    "Consider this starting output for this problem:  \n",
    "<img src=\"BFS_Output.png\" alt=\"BFS_Output\" width=\"275\"/>"
   ]
  },
  {
   "cell_type": "code",
   "execution_count": 8,
   "metadata": {},
   "outputs": [],
   "source": [
    "# feel free to add imports below this cell. See example below:"
   ]
  },
  {
   "cell_type": "code",
   "execution_count": 9,
   "metadata": {},
   "outputs": [],
   "source": [
    "from copy import deepcopy\n",
    "import math\n",
    "import queue\n",
    "\n",
    "# Constants\n",
    "COORDS = 0\n",
    "PARENT = 1\n",
    "UP_CHILD = 2\n",
    "RIGHT_CHILD = 3\n",
    "ELEMENT = 4 # ⬛, ⬜, 🟨, 🟩, 🤖, or ❤️"
   ]
  },
  {
   "cell_type": "code",
   "execution_count": 10,
   "metadata": {},
   "outputs": [],
   "source": [
    "# feel free to add helper functions below this cell. See example below:"
   ]
  },
  {
   "cell_type": "markdown",
   "metadata": {},
   "source": [
    "<a id=\"my_helper_function\"></a>\n",
    "## my_helper_function (Start a helper funtion with a Markdown cell like this)\n",
    "\n",
    "This function does nothing. It serves to demonstrate how your helper functions should be documented. They should start with a description like this Markdown cell. Next, write your function in a Code cell. Finally, end with three assert-style unit tests. \n",
    "\n",
    "* **arg_1** int: length of world\n",
    "* **arg_2** int: height of world\n",
    "\n",
    "\n",
    "**returns** \n",
    "\n",
    "* **area** int: the number of locations in the world"
   ]
  },
  {
   "cell_type": "code",
   "execution_count": 11,
   "metadata": {},
   "outputs": [],
   "source": [
    "def my_helper_function(arg_1, arg_2):\n",
    "    return arg_1 * arg_2"
   ]
  },
  {
   "cell_type": "code",
   "execution_count": 12,
   "metadata": {},
   "outputs": [],
   "source": [
    "assert my_helper_function(1,1) == 1 #if these pass, you should see no output\n",
    "assert my_helper_function(1,0) == 0 \n",
    "assert my_helper_function(len(world),len(world[0])) == 21*21 # end helper function three asserts"
   ]
  },
  {
   "cell_type": "markdown",
   "metadata": {},
   "source": [
    "<a id=\"print_world\"></a>\n",
    "## print_world\n",
    "\n",
    "This function prints out a \"world\" (a list). \n",
    "\n",
    "* **arg_1** list: world to print"
   ]
  },
  {
   "cell_type": "code",
   "execution_count": 13,
   "metadata": {},
   "outputs": [],
   "source": [
    "def print_world(world):\n",
    "    # A nice view of the world, without commas and brackets\n",
    "    for row in world:\n",
    "        print(\"\".join(row))"
   ]
  },
  {
   "cell_type": "markdown",
   "metadata": {},
   "source": [
    "<a id=\"initialize_nodes\"></a>\n",
    "## initialize_nodes\n",
    "\n",
    "This function creates nodes from a world \n",
    "\n",
    "* **arg_1** nodes: dictionary of nodes\n",
    "* **arg_2** world: world to create nodes from"
   ]
  },
  {
   "cell_type": "code",
   "execution_count": 14,
   "metadata": {},
   "outputs": [],
   "source": [
    "def initialize_nodes(world):\n",
    "    nodes = {}\n",
    "    for row in range(len(world)):\n",
    "        for col in range(len(world)): \n",
    "            nodes[(row, col)] = [(row, col), None, None, None, world[row][col]]\n",
    "    return nodes"
   ]
  },
  {
   "cell_type": "markdown",
   "metadata": {},
   "source": [
    "<a id=\"get_up_child\"></a>\n",
    "## get_up_child \n",
    "\n",
    "This function gets the upper child of a node in the world.\n",
    "\n",
    "* **arg_1** node: node to get upper child of"
   ]
  },
  {
   "cell_type": "code",
   "execution_count": 15,
   "metadata": {},
   "outputs": [],
   "source": [
    "def get_up_child(node):\n",
    "    ROW = 0\n",
    "    COL = 1\n",
    "    if node[COORDS][ROW] == 0:\n",
    "        return None\n",
    "    return (node[COORDS][ROW] - 1, node[COORDS][COL])"
   ]
  },
  {
   "cell_type": "markdown",
   "metadata": {},
   "source": [
    "<a id=\"get_right_child\"></a>\n",
    "## get_right_child \n",
    "\n",
    "This function gets the right child of a node in the world.\n",
    "\n",
    "* **arg_1** node: node to get right child of\n",
    "* **arg_2** world: world to grab dimensions of"
   ]
  },
  {
   "cell_type": "code",
   "execution_count": 16,
   "metadata": {},
   "outputs": [],
   "source": [
    "def get_right_child(node, world):\n",
    "    ROW = 0\n",
    "    COL = 1\n",
    "    if node[COORDS][COL] == len(world[ROW]) - 1:\n",
    "        return None\n",
    "    return (node[COORDS][ROW], node[COORDS][COL] + 1)"
   ]
  },
  {
   "cell_type": "markdown",
   "metadata": {},
   "source": [
    "<a id=\"is_goal\"></a>\n",
    "## is_goal \n",
    "\n",
    "This function determines if a node is goal.\n",
    "\n",
    "* **arg_1** node: node to check for goal"
   ]
  },
  {
   "cell_type": "code",
   "execution_count": 17,
   "metadata": {},
   "outputs": [],
   "source": [
    "def is_goal(node): \n",
    "    if node[ELEMENT] == '❤️':\n",
    "        return True\n",
    "    return False"
   ]
  },
  {
   "cell_type": "markdown",
   "metadata": {},
   "source": [
    "<a id=\"breadth_first_search\"></a>\n",
    "## breadth_first_search\n",
    "\n",
    "Description of your function. Keep function to 20 lines or less with no comments and expressive variable names.\n",
    "\n",
    "* **world**: the search area\n",
    "* **start**: the starting location of the robot\n",
    "* **goal**: the goal location in the search area\n",
    "* **moves**: the allowable moves in the search area\n",
    "\n",
    "\n",
    "**returns** None (but prints out a nice view of the world and replaces appropriate cells using '🟨' and '🟩')."
   ]
  },
  {
   "cell_type": "code",
   "execution_count": 1,
   "metadata": {},
   "outputs": [],
   "source": [
    "def breadth_first_search(world, start, goal, moves): # Amend argument list and description above as you see fit\n",
    "    # Initialize nodes\n",
    "    nodes = initialize_nodes(world)\n",
    "    \n",
    "    # Initialize frontier with starting node (Queue)\n",
    "    frontier = queue.Queue()\n",
    "    frontier.append(start)\n",
    "    \n",
    "    # Intialize explored with starting node\n",
    "    explored = {}\n",
    "    \n",
    "    # while Queue is NOT empty\n",
    "    while not frontier.empty():\n",
    "    \n",
    "        # node = pop from queue\n",
    "        node = frontier.pop()\n",
    "        \n",
    "        print('running')\n",
    "        \n",
    "        # if node = goal \n",
    "        if nodes[node][ELEMENT] == '❤️':\n",
    "            # print world\n",
    "            print('FOUND GOAL')\n",
    "            return \n",
    "            \n",
    "        else:\n",
    "            # add children to frontier\n",
    "            up_child = get_up_child(nodes[node])\n",
    "            if not up_child == None:\n",
    "                nodes[node][UP_CHILD] = up_child\n",
    "                nodes[up_child][PARENT] = node\n",
    "                if not nodes[up_child][ELEMENT] == '⬛' and not explored[nodes[up_child]]:\n",
    "                    frontier.append(up_child)\n",
    "            \n",
    "    \n",
    "            right_child = get_right_child(nodes[node], world)\n",
    "            if not right_child == None:\n",
    "                nodes[node][RIGHT_CHILD] = right_child\n",
    "                nodes[right_child][PARENT] = node\n",
    "                if not nodes[right_child][ELEMENT] == '⬛' and not explored[nodes[up_child]]:\n",
    "                    frontier.append(right_child)\n",
    "        \n",
    "        # add node to explored\n",
    "        nodes[node][ELEMENT] = '🟨'\n",
    "        \n",
    "        explored[node] = True\n",
    "        \n",
    "    \n",
    "    print('frontier now empty')\n",
    "    return"
   ]
  },
  {
   "cell_type": "code",
   "execution_count": null,
   "metadata": {},
   "outputs": [],
   "source": [
    "bfs_world = world.copy()\n",
    "result_1 = breadth_first_search(bfs_world, start, goal, MOVES) # Add your arguments, but this should ONLY print out a nice view of the world"
   ]
  },
  {
   "cell_type": "markdown",
   "metadata": {},
   "source": [
    "# PROBLEM 1 TEST BOX"
   ]
  },
  {
   "cell_type": "code",
   "execution_count": null,
   "metadata": {},
   "outputs": [],
   "source": [
    "bfs_world = world.copy()\n",
    "nodes = initialize_nodes(bfs_world)      \n",
    "        \n",
    "test_node = nodes[(12,9)]\n",
    "up_child = get_up_child(test_node)\n",
    "right_child = get_right_child(test_node, world)\n",
    "\n",
    "print('test_node', test_node)\n",
    "print('up_child', nodes[up_child])\n",
    "print('right_child', nodes[right_child])\n"
   ]
  },
  {
   "cell_type": "markdown",
   "metadata": {},
   "source": [
    "## Problem #2\n",
    "\n",
    "\n",
    "Implement a depth-first search function to help the robot find a path to goal. \n",
    "\n",
    "\n",
    "The output guidelines are similar to Problem #1. "
   ]
  },
  {
   "cell_type": "markdown",
   "metadata": {},
   "source": [
    "Consider the following starting tree for reference:\n",
    "<img src=\"DFS_Tree.png\" alt=\"DFS_Tree\" width=\"500\"/>  \n",
    "  \n",
    "\n",
    "Since it is DFS, it will open the first child of the node until it can."
   ]
  },
  {
   "cell_type": "markdown",
   "metadata": {},
   "source": [
    "Consider this starting output for this problem:  \n",
    "<img src=\"DFS_Output.png\" alt=\"DFS_Output\" width=\"275\"/>"
   ]
  },
  {
   "cell_type": "code",
   "execution_count": null,
   "metadata": {},
   "outputs": [],
   "source": [
    "# feel free to add helper functions below this cell."
   ]
  },
  {
   "cell_type": "markdown",
   "metadata": {},
   "source": [
    "<a id=\"depth_first_search\"></a>\n",
    "## depth_first_search\n",
    "\n",
    "Description of your function..."
   ]
  },
  {
   "cell_type": "code",
   "execution_count": null,
   "metadata": {},
   "outputs": [],
   "source": [
    "def depth_first_search(world, start, goal, moves): # Amend argument list and description above as you see fit\n",
    "    pass\n",
    "    \n",
    "    return"
   ]
  },
  {
   "cell_type": "code",
   "execution_count": null,
   "metadata": {},
   "outputs": [],
   "source": [
    "result_2 = depth_first_search(world, start, goal, MOVES) # Add your arguments, but this should ONLY print out a nice view of the world"
   ]
  },
  {
   "cell_type": "markdown",
   "metadata": {},
   "source": [
    "## Problem #3\n",
    "\n",
    "\n",
    "Implement an A$^*$ search function to help the robot find the optimal path to goal. For this problem, when calculating the accumulated path cost assume that every step the robot takes costs 1 unit. Use straight-line distance as your heuristic.\n",
    "\n",
    "\n",
    "The output guidelines are similar to Problems 1 and 2. "
   ]
  },
  {
   "cell_type": "code",
   "execution_count": null,
   "metadata": {},
   "outputs": [],
   "source": [
    "# Feel free to add helper functions below this cell."
   ]
  },
  {
   "cell_type": "markdown",
   "metadata": {},
   "source": [
    "<a id=\"a_star_search\"></a>\n",
    "## a_star_search\n",
    "\n",
    "Description of your function..."
   ]
  },
  {
   "cell_type": "code",
   "execution_count": null,
   "metadata": {},
   "outputs": [],
   "source": [
    "def a_star_search(world, start, goal, moves): # Amend argument list and description above as you see fit)\n",
    "    pass\n",
    "    \n",
    "    return"
   ]
  },
  {
   "cell_type": "code",
   "execution_count": null,
   "metadata": {},
   "outputs": [],
   "source": [
    "result_3 = a_star_search(world, start, goal, MOVES) # Add your arguments, but this should ONLY print out a nice view of the world"
   ]
  },
  {
   "cell_type": "markdown",
   "metadata": {},
   "source": [
    "## Problem #4\n",
    "\n",
    "\n",
    "We're going to swap the start and goal positions and re-run the breadth-first and depth-first search algorithms.\n",
    "\n",
    "\n",
    "Fill out the table below with brief comments. "
   ]
  },
  {
   "cell_type": "code",
   "execution_count": null,
   "metadata": {},
   "outputs": [],
   "source": [
    "start,goal=goal,start"
   ]
  },
  {
   "cell_type": "code",
   "execution_count": null,
   "metadata": {},
   "outputs": [],
   "source": [
    "result_4a = breadth_first_search(world, start, goal, MOVES) # Add your arguments, but this should ONLY print out a nice view of the world"
   ]
  },
  {
   "cell_type": "code",
   "execution_count": null,
   "metadata": {},
   "outputs": [],
   "source": [
    "result_4b = depth_first_search(world, start, goal, MOVES) # Add your arguments, but this should ONLY print out a nice view of the world"
   ]
  },
  {
   "cell_type": "markdown",
   "metadata": {},
   "source": [
    "| Comparison | Comment | \n",
    "|------|------|\n",
    "|BFS (original positions) vs DFS (original positions)| YOUR BRIEF COMMENTS HERE |\n",
    "|BFS (original positions) vs BFS (swapped positions) | YOUR BRIEF COMMENTS HERE |\n",
    "|DFS (original positions) vs DFS (swapped positions) | YOUR BRIEF COMMENTS HERE |\n"
   ]
  },
  {
   "cell_type": "markdown",
   "metadata": {},
   "source": [
    "## Before You Submit...\n",
    "\n",
    "1. Re-read the general instructions provided above, and\n",
    "2. Hit \"Kernel\"->\"Restart & Run All\"."
   ]
  }
 ],
 "metadata": {
  "kernelspec": {
   "display_name": "Python 3 (ipykernel)",
   "language": "python",
   "name": "python3"
  },
  "language_info": {
   "codemirror_mode": {
    "name": "ipython",
    "version": 3
   },
   "file_extension": ".py",
   "mimetype": "text/x-python",
   "name": "python",
   "nbconvert_exporter": "python",
   "pygments_lexer": "ipython3",
   "version": "3.9.13"
  },
  "toc": {
   "colors": {
    "hover_highlight": "#DAA520",
    "navigate_num": "#000000",
    "navigate_text": "#333333",
    "running_highlight": "#FF0000",
    "selected_highlight": "#FFD700",
    "sidebar_border": "#EEEEEE",
    "wrapper_background": "#FFFFFF"
   },
   "moveMenuLeft": true,
   "nav_menu": {
    "height": "192px",
    "width": "252px"
   },
   "navigate_menu": true,
   "number_sections": true,
   "sideBar": true,
   "threshold": 4,
   "toc_cell": false,
   "toc_section_display": "block",
   "toc_window_display": false,
   "widenNotebook": false
  }
 },
 "nbformat": 4,
 "nbformat_minor": 4
}
